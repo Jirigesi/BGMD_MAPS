{
 "cells": [
  {
   "cell_type": "code",
   "execution_count": 12,
   "metadata": {},
   "outputs": [],
   "source": [
    "import pandas as pd\n",
    "import numpy as np\n",
    "from sklearn.preprocessing import LabelEncoder, StandardScaler, MinMaxScaler\n",
    "from sklearn.pipeline import make_pipeline\n",
    "from sklearn.compose import make_column_transformer\n",
    "from sklearn.model_selection import train_test_split, cross_val_score\n",
    "from sklearn import svm\n",
    "from sklearn.tree import DecisionTreeClassifier\n",
    "import matplotlib.pyplot as plt\n",
    "from imblearn.over_sampling import SMOTE\n",
    "from helper import get_performance\n",
    "\n",
    "EPOCHS = 700\n",
    "BATCH_SIZE = 2048\n",
    "ACTIVATION = 'swish'\n",
    "LEARNING_RATE = 0.0007\n",
    "FOLDS = 5"
   ]
  },
  {
   "cell_type": "code",
   "execution_count": 13,
   "metadata": {},
   "outputs": [
    {
     "name": "stdout",
     "output_type": "stream",
     "text": [
      "Train data:  (16648, 59)\n",
      "Test data:  (7135, 59)\n"
     ]
    }
   ],
   "source": [
    "# Reading the dataset\n",
    "data = pd.read_csv(\"dataset/Hotel_Booking/hotel_bookings.csv\")\n",
    "data = data.sample(frac=0.2, replace=True, random_state=1).reset_index(drop=True)\n",
    "\n",
    "data = data.drop(['company'], axis = 1)\n",
    "data['children'] = data['children'].fillna(0)\n",
    "data['hotel'] = data['hotel'].map({'Resort Hotel':0, 'City Hotel':1})\n",
    "\n",
    "data['arrival_date_month'] = data['arrival_date_month'].map({'January':1, 'February': 2, 'March':3, 'April':4, 'May':5, 'June':6, 'July':7,\n",
    "                                                            'August':8, 'September':9, 'October':10, 'November':11, 'December':12})\n",
    "def family(data):\n",
    "    if ((data['adults'] > 0) & (data['children'] > 0)):\n",
    "        val = 1\n",
    "    elif ((data['adults'] > 0) & (data['babies'] > 0)):\n",
    "        val = 1\n",
    "    else:\n",
    "        val = 0\n",
    "    return val\n",
    "\n",
    "def deposit(data):\n",
    "    if ((data['deposit_type'] == 'No Deposit') | (data['deposit_type'] == 'Refundable')):\n",
    "        return 0\n",
    "    else:\n",
    "        return 1\n",
    "    \n",
    "def feature(data):\n",
    "    data[\"is_family\"] = data.apply(family, axis = 1)\n",
    "    data[\"total_customer\"] = data[\"adults\"] + data[\"children\"] + data[\"babies\"]\n",
    "    data[\"deposit_given\"] = data.apply(deposit, axis=1)\n",
    "    data[\"total_nights\"] = data[\"stays_in_weekend_nights\"]+ data[\"stays_in_week_nights\"]\n",
    "    return data\n",
    "\n",
    "data = feature(data)\n",
    "# Information of these columns is also inside of new features, so it is better to drop them.\n",
    "# I did not drop stays_nights features, I can't decide which feature is more important there.\n",
    "data = data.drop(columns = ['adults', 'babies', 'children', 'deposit_type', 'reservation_status_date'])\n",
    "\n",
    "indices = data.loc[pd.isna(data[\"country\"]), :].index \n",
    "data = data.drop(data.index[indices])   \n",
    "data = data.drop(columns = ['arrival_date_week_number', 'stays_in_weekend_nights', 'arrival_date_month', 'agent'], axis = 1)\n",
    "\n",
    "df1 = data.copy()\n",
    "#one-hot-encoding\n",
    "df1 = pd.get_dummies(data = df1, columns = ['meal', 'market_segment', 'distribution_channel',\n",
    "                                            'reserved_room_type', 'assigned_room_type', 'customer_type', 'reservation_status'])\n",
    "le = LabelEncoder()\n",
    "df1['country'] = le.fit_transform(df1['country']) \n",
    "# There are more than 300 classes, so I wanted to use label encoder on this feature.\n",
    "\n",
    "df2 = df1.drop(columns = ['reservation_status_Canceled', 'reservation_status_Check-Out', 'reservation_status_No-Show'], axis = 1)\n",
    "df2.rename(columns={'market_segment_Offline TA/TO' : 'market_segment_Offline_TA_TO',\n",
    "                    'market_segment_Online TA' : 'market_segment_Online_TA',\n",
    "                    'distribution_channel_TA/TO' : 'distribution_channel_TA_TO',\n",
    "                    'customer_type_Transient-Party' : 'customer_type_Transient_Party'}, inplace=True)\n",
    "\n",
    "y = df2[\"is_canceled\"]\n",
    "X = df2.drop([\"is_canceled\"], axis=1)\n",
    "\n",
    "X_train, X_test, y_train, y_test = train_test_split(X, y, test_size = 0.30, random_state = 42)\n",
    "\n",
    "print(\"Train data: \", X_train.shape)\n",
    "print(\"Test data: \", X_test.shape)"
   ]
  },
  {
   "cell_type": "code",
   "execution_count": 14,
   "metadata": {},
   "outputs": [
    {
     "data": {
      "text/plain": [
       "0    10537\n",
       "1     6111\n",
       "Name: is_canceled, dtype: int64"
      ]
     },
     "execution_count": 14,
     "metadata": {},
     "output_type": "execute_result"
    }
   ],
   "source": [
    "y_train.value_counts()"
   ]
  },
  {
   "cell_type": "code",
   "execution_count": 15,
   "metadata": {},
   "outputs": [
    {
     "data": {
      "text/plain": [
       "0    4504\n",
       "1    2631\n",
       "Name: is_canceled, dtype: int64"
      ]
     },
     "execution_count": 15,
     "metadata": {},
     "output_type": "execute_result"
    }
   ],
   "source": [
    "y_test.value_counts()"
   ]
  },
  {
   "cell_type": "markdown",
   "metadata": {},
   "source": [
    "# Default Model"
   ]
  },
  {
   "cell_type": "code",
   "execution_count": 16,
   "metadata": {},
   "outputs": [
    {
     "name": "stdout",
     "output_type": "stream",
     "text": [
      "Performance on all data\n",
      "Precision: 0.679502614215771\n",
      "Recall: 0.6850735809390329\n",
      "F1 Score: 0.6471423330777778\n"
     ]
    },
    {
     "data": {
      "text/plain": [
       "(0.679502614215771, 0.6850735809390329, 0.6471423330777778, None)"
      ]
     },
     "execution_count": 16,
     "metadata": {},
     "output_type": "execute_result"
    }
   ],
   "source": [
    "model_default = svm.SVC()\n",
    "scores_default = cross_val_score(model_default, X=X_train, y=y_train, cv = FOLDS)\n",
    "model_default.fit(X_train, y_train)\n",
    "y_pred_default = model_default.predict(X_test)\n",
    "get_performance(X_test, y_test, y_pred_default)"
   ]
  },
  {
   "cell_type": "code",
   "execution_count": 17,
   "metadata": {},
   "outputs": [
    {
     "data": {
      "text/plain": [
       "0    5951\n",
       "1    1184\n",
       "dtype: int64"
      ]
     },
     "execution_count": 17,
     "metadata": {},
     "output_type": "execute_result"
    }
   ],
   "source": [
    "pd.DataFrame(y_pred_default).value_counts()"
   ]
  },
  {
   "cell_type": "code",
   "execution_count": 18,
   "metadata": {},
   "outputs": [],
   "source": [
    "import time \n",
    "import sys\n",
    "sys.path.insert(1, './mmd')\n",
    "from mmd import diagnoser\n",
    "from scipy import stats as st\n",
    "import numpy\n",
    "#notebook's library\n",
    "%matplotlib inline\n",
    "from helper import get_top_f1_rules, get_relevent_attributs_target, get_MMD_results, get_biased_features, get_BGMD_results\n",
    "from helper import generateTrain_data_Weights"
   ]
  },
  {
   "cell_type": "code",
   "execution_count": 19,
   "metadata": {},
   "outputs": [],
   "source": [
    "default_result = pd.concat([X_test, y_test], axis=1, join='inner')\n",
    "default_result.loc[:,\"pred\"] = y_pred_default"
   ]
  },
  {
   "cell_type": "code",
   "execution_count": 20,
   "metadata": {},
   "outputs": [],
   "source": [
    "def mispredict_label(row):\n",
    "    if row['is_canceled'] == row['pred']:\n",
    "        return False\n",
    "    return True"
   ]
  },
  {
   "cell_type": "code",
   "execution_count": 21,
   "metadata": {},
   "outputs": [],
   "source": [
    "default_result_copy = default_result.copy()\n",
    "X_test_copy = X_test.copy()\n",
    "X_test_copy['mispredict'] = default_result_copy.apply(lambda row: mispredict_label(row), axis=1)"
   ]
  },
  {
   "cell_type": "code",
   "execution_count": 22,
   "metadata": {},
   "outputs": [
    {
     "name": "stdout",
     "output_type": "stream",
     "text": [
      "Original Rule\n",
      "Subgroup Discovery Result\n",
      "\n",
      "Found \u001b[1m3\u001b[0m subgroups\n",
      "\u001b[1mDataset\u001b[0m\n",
      "Target: mispredict=True\n",
      "# Rows:\t7135\n",
      "# Cols:\t60\n",
      "% Target in dataset 31.49%\n",
      "========================================\n",
      "\u001b[1mSubgroup: stays_in_week_nights>11\u001b[0m\n",
      "% of subgroup in population (Full Dataset):\t0.38% (27 rows)\n",
      "Precision: P(mispredict=True | stays_in_week_nights>11) = 59.26%\n",
      "Recall: P(stays_in_week_nights>11 | mispredict=True) = 0.71%\n",
      "========================================\n",
      "\u001b[1mSubgroup: total_nights>14\u001b[0m\n",
      "% of subgroup in population (Full Dataset):\t0.48% (34 rows)\n",
      "Precision: P(mispredict=True | total_nights>14) = 55.88%\n",
      "Recall: P(total_nights>14 | mispredict=True) = 0.85%\n",
      "========================================\n",
      "\u001b[1mSubgroup: required_car_parking_spaces<=0\u001b[0m\n",
      "% of subgroup in population (Full Dataset):\t93.69% (6685 rows)\n",
      "Precision: P(mispredict=True | required_car_parking_spaces<=0) = 33.13%\n",
      "Recall: P(required_car_parking_spaces<=0 | mispredict=True) = 98.58%\n",
      "\n",
      "###############################\n",
      "\n",
      "BGMD Rule\n",
      "Subgroup Discovery Result\n",
      "\n",
      "Found \u001b[1m3\u001b[0m subgroups\n",
      "\u001b[1mDataset\u001b[0m\n",
      "Target: mispredict=True\n",
      "# Rows:\t7135\n",
      "# Cols:\t60\n",
      "% Target in dataset 31.49%\n",
      "========================================\n",
      "\u001b[1mSubgroup: stays_in_week_nights>11\u001b[0m\n",
      "% of subgroup in population (Full Dataset):\t0.38% (27 rows)\n",
      "Precision: P(mispredict=True | stays_in_week_nights>11) = 59.26%\n",
      "Recall: P(stays_in_week_nights>11 | mispredict=True) = 0.71%\n",
      "========================================\n",
      "\u001b[1mSubgroup: total_nights>14\u001b[0m\n",
      "% of subgroup in population (Full Dataset):\t0.48% (34 rows)\n",
      "Precision: P(mispredict=True | total_nights>14) = 55.88%\n",
      "Recall: P(total_nights>14 | mispredict=True) = 0.85%\n",
      "========================================\n",
      "\u001b[1mSubgroup: required_car_parking_spaces<=0\u001b[0m\n",
      "% of subgroup in population (Full Dataset):\t93.69% (6685 rows)\n",
      "Precision: P(mispredict=True | required_car_parking_spaces<=0) = 33.13%\n",
      "Recall: P(required_car_parking_spaces<=0 | mispredict=True) = 98.58%\n",
      "MMD Spent: 29.66937565803528 BGMD Spent: 4.911484956741333\n"
     ]
    },
    {
     "data": {
      "text/plain": [
       "([[0.4959695476936857,\n",
       "   0.33133881824981304,\n",
       "   0.9857587894971073,\n",
       "   'required_car_parking_spaces<=0'],\n",
       "  [0.016659359929855327,\n",
       "   0.5588235294117647,\n",
       "   0.008455718736092568,\n",
       "   'total_nights>14'],\n",
       "  [0.014072119613016711,\n",
       "   0.5925925925925926,\n",
       "   0.007120605251446373,\n",
       "   'stays_in_week_nights>11']],\n",
       " [[0.4959695476936857,\n",
       "   0.33133881824981304,\n",
       "   0.9857587894971073,\n",
       "   'required_car_parking_spaces<=0'],\n",
       "  [0.016659359929855327,\n",
       "   0.5588235294117647,\n",
       "   0.008455718736092568,\n",
       "   'total_nights>14'],\n",
       "  [0.014072119613016711,\n",
       "   0.5925925925925926,\n",
       "   0.007120605251446373,\n",
       "   'stays_in_week_nights>11']])"
      ]
     },
     "execution_count": 22,
     "metadata": {},
     "output_type": "execute_result"
    }
   ],
   "source": [
    "settings = diagnoser.Settings\n",
    "settings.all_rules = True\n",
    "# Get relevent attributes and target \n",
    "relevant_attributes, Target = get_relevent_attributs_target(X_test_copy)\n",
    "# Generate MMD rules and correspodning information\n",
    "MMD_rules, MMD_time, MMD_Features = get_MMD_results(X_test_copy, relevant_attributes, Target)\n",
    "\n",
    "#Get biased attributes this time \n",
    "biased_attributes = get_biased_features(X_test_copy, relevant_attributes)\n",
    "\n",
    "BGMD_rules, BGMD_time, BGMD_Features = get_BGMD_results(X_test_copy, biased_attributes, Target)\n",
    "\n",
    "print('MMD Spent:', MMD_time, 'BGMD Spent:', BGMD_time)\n",
    "MMD_rules, BGMD_rules"
   ]
  },
  {
   "cell_type": "markdown",
   "metadata": {},
   "source": [
    "# Decision Tree"
   ]
  },
  {
   "cell_type": "code",
   "execution_count": 23,
   "metadata": {},
   "outputs": [
    {
     "name": "stdout",
     "output_type": "stream",
     "text": [
      "Performance on all data\n",
      "Precision: 0.8340642154231357\n",
      "Recall: 0.8333566923615977\n",
      "F1 Score: 0.8336697129858249\n"
     ]
    },
    {
     "data": {
      "text/plain": [
       "(0.8340642154231357, 0.8333566923615977, 0.8336697129858249, None)"
      ]
     },
     "execution_count": 23,
     "metadata": {},
     "output_type": "execute_result"
    }
   ],
   "source": [
    "model_default = DecisionTreeClassifier()\n",
    "scores_default = cross_val_score(model_default, X=X_train, y=y_train, cv = FOLDS)\n",
    "model_default.fit(X_train, y_train)\n",
    "y_pred_default = model_default.predict(X_test)\n",
    "get_performance(X_test, y_test, y_pred_default)"
   ]
  },
  {
   "cell_type": "code",
   "execution_count": 24,
   "metadata": {},
   "outputs": [
    {
     "name": "stdout",
     "output_type": "stream",
     "text": [
      "Original Rule\n",
      "Subgroup Discovery Result\n",
      "\n",
      "Found \u001b[1m3\u001b[0m subgroups\n",
      "\u001b[1mDataset\u001b[0m\n",
      "Target: mispredict=True\n",
      "# Rows:\t7135\n",
      "# Cols:\t60\n",
      "% Target in dataset 16.66%\n",
      "========================================\n",
      "\u001b[1mSubgroup: total_customer>4.0\u001b[0m\n",
      "% of subgroup in population (Full Dataset):\t0.14% (10 rows)\n",
      "Precision: P(mispredict=True | total_customer>4.0) = 60.0%\n",
      "Recall: P(total_customer>4.0 | mispredict=True) = 0.5%\n",
      "========================================\n",
      "\u001b[1mSubgroup: deposit_given<=0\u001b[0m\n",
      "% of subgroup in population (Full Dataset):\t87.83% (6267 rows)\n",
      "Precision: P(mispredict=True | deposit_given<=0) = 18.96%\n",
      "Recall: P(deposit_given<=0 | mispredict=True) = 99.92%\n",
      "========================================\n",
      "\u001b[1mSubgroup: total_nights>14\u001b[0m\n",
      "% of subgroup in population (Full Dataset):\t0.48% (34 rows)\n",
      "Precision: P(mispredict=True | total_nights>14) = 29.41%\n",
      "Recall: P(total_nights>14 | mispredict=True) = 0.84%\n",
      "\n",
      "###############################\n",
      "\n",
      "BGMD Rule\n",
      "Subgroup Discovery Result\n",
      "\n",
      "Found \u001b[1m3\u001b[0m subgroups\n",
      "\u001b[1mDataset\u001b[0m\n",
      "Target: mispredict=True\n",
      "# Rows:\t7135\n",
      "# Cols:\t60\n",
      "% Target in dataset 16.66%\n",
      "========================================\n",
      "\u001b[1mSubgroup: total_customer>4.0\u001b[0m\n",
      "% of subgroup in population (Full Dataset):\t0.14% (10 rows)\n",
      "Precision: P(mispredict=True | total_customer>4.0) = 60.0%\n",
      "Recall: P(total_customer>4.0 | mispredict=True) = 0.5%\n",
      "========================================\n",
      "\u001b[1mSubgroup: deposit_given<=0\u001b[0m\n",
      "% of subgroup in population (Full Dataset):\t87.83% (6267 rows)\n",
      "Precision: P(mispredict=True | deposit_given<=0) = 18.96%\n",
      "Recall: P(deposit_given<=0 | mispredict=True) = 99.92%\n",
      "========================================\n",
      "\u001b[1mSubgroup: total_nights>14\u001b[0m\n",
      "% of subgroup in population (Full Dataset):\t0.48% (34 rows)\n",
      "Precision: P(mispredict=True | total_nights>14) = 29.41%\n",
      "Recall: P(total_nights>14 | mispredict=True) = 0.84%\n",
      "MMD Spent: 35.63239789009094 BGMD Spent: 3.8908579349517822\n"
     ]
    },
    {
     "data": {
      "text/plain": [
       "([[0.3186695278969957,\n",
       "   0.18956438487314506,\n",
       "   0.9991589571068125,\n",
       "   'deposit_given<=0'],\n",
       "  [0.016353229762878167,\n",
       "   0.29411764705882354,\n",
       "   0.008410428931875526,\n",
       "   'total_nights>14'],\n",
       "  [0.010008340283569641, 0.6, 0.005046257359125316, 'total_customer>4.0']],\n",
       " [[0.3186695278969957,\n",
       "   0.18956438487314506,\n",
       "   0.9991589571068125,\n",
       "   'deposit_given<=0'],\n",
       "  [0.016353229762878167,\n",
       "   0.29411764705882354,\n",
       "   0.008410428931875526,\n",
       "   'total_nights>14'],\n",
       "  [0.010008340283569641, 0.6, 0.005046257359125316, 'total_customer>4.0']])"
      ]
     },
     "execution_count": 24,
     "metadata": {},
     "output_type": "execute_result"
    }
   ],
   "source": [
    "default_result = pd.concat([X_test, y_test], axis=1, join='inner')\n",
    "default_result.loc[:,\"pred\"] = y_pred_default\n",
    "default_result_copy = default_result.copy()\n",
    "X_test_copy = X_test.copy()\n",
    "X_test_copy['mispredict'] = default_result_copy.apply(lambda row: mispredict_label(row), axis=1)\n",
    "settings = diagnoser.Settings\n",
    "settings.all_rules = True\n",
    "# Get relevent attributes and target \n",
    "relevant_attributes, Target = get_relevent_attributs_target(X_test_copy)\n",
    "# Generate MMD rules and correspodning information\n",
    "MMD_rules, MMD_time, MMD_Features = get_MMD_results(X_test_copy, relevant_attributes, Target)\n",
    "\n",
    "#Get biased attributes this time \n",
    "biased_attributes = get_biased_features(X_test_copy, relevant_attributes)\n",
    "\n",
    "BGMD_rules, BGMD_time, BGMD_Features = get_BGMD_results(X_test_copy, biased_attributes, Target)\n",
    "\n",
    "print('MMD Spent:', MMD_time, 'BGMD Spent:', BGMD_time)\n",
    "MMD_rules, BGMD_rules"
   ]
  }
 ],
 "metadata": {
  "kernelspec": {
   "display_name": "Python 3",
   "language": "python",
   "name": "python3"
  },
  "language_info": {
   "codemirror_mode": {
    "name": "ipython",
    "version": 3
   },
   "file_extension": ".py",
   "mimetype": "text/x-python",
   "name": "python",
   "nbconvert_exporter": "python",
   "pygments_lexer": "ipython3",
   "version": "3.8.5"
  }
 },
 "nbformat": 4,
 "nbformat_minor": 5
}
