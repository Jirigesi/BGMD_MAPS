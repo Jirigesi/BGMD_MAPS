{
 "cells": [
  {
   "cell_type": "code",
   "execution_count": 21,
   "metadata": {},
   "outputs": [],
   "source": [
    "import pandas as pd\n",
    "import numpy as np\n",
    "from sklearn.preprocessing import LabelEncoder, StandardScaler, MinMaxScaler\n",
    "from sklearn.pipeline import make_pipeline\n",
    "from sklearn.compose import make_column_transformer\n",
    "from sklearn.model_selection import train_test_split, cross_val_score\n",
    "from sklearn import svm\n",
    "from sklearn.tree import DecisionTreeClassifier\n",
    "import matplotlib.pyplot as plt\n",
    "from imblearn.over_sampling import SMOTE\n",
    "from helper import get_performance\n",
    "\n",
    "EPOCHS = 700\n",
    "BATCH_SIZE = 2048\n",
    "ACTIVATION = 'swish'\n",
    "LEARNING_RATE = 0.0007\n",
    "FOLDS = 5"
   ]
  },
  {
   "cell_type": "code",
   "execution_count": 22,
   "metadata": {},
   "outputs": [
    {
     "name": "stdout",
     "output_type": "stream",
     "text": [
      "Train data:  (9000, 100)\n",
      "Test data:  (9000, 100)\n"
     ]
    }
   ],
   "source": [
    "# Reading the dataset\n",
    "raw_train = pd.read_csv(\"dataset/tabular/train.csv\")\n",
    "#raw_train = raw_train.sample(frac=0.01, replace=True, random_state=1)\n",
    "target = raw_train.target\n",
    "X_train, X_test, y_train, y_test = train_test_split(raw_train, target, test_size = 0.5, random_state = 29)\n",
    "\n",
    "X_train = X_train.sample(frac=0.03, replace=True, random_state=1).reset_index(drop=True)\n",
    "target = X_train.target\n",
    "X_train = X_train.drop('target', axis = 1)\n",
    "train = X_train.drop('id', axis = 1)\n",
    "\n",
    "X_test = X_test.sample(frac=0.03, replace=True, random_state=1).reset_index(drop=True)\n",
    "y_test = X_test.target\n",
    "X_test = X_test.drop('target', axis = 1)\n",
    "test = X_test.drop('id', axis = 1)\n",
    "\n",
    "print(\"Train data: \", train.shape)\n",
    "print(\"Test data: \", test.shape)"
   ]
  },
  {
   "cell_type": "code",
   "execution_count": 23,
   "metadata": {},
   "outputs": [],
   "source": [
    "X_test = test"
   ]
  },
  {
   "cell_type": "markdown",
   "metadata": {},
   "source": [
    "# Default Model"
   ]
  },
  {
   "cell_type": "code",
   "execution_count": 24,
   "metadata": {},
   "outputs": [
    {
     "name": "stdout",
     "output_type": "stream",
     "text": [
      "Performance on all data\n",
      "Precision: 0.525581147833746\n",
      "Recall: 0.5231111111111111\n",
      "F1 Score: 0.4855188098273521\n"
     ]
    },
    {
     "data": {
      "text/plain": [
       "(0.525581147833746, 0.5231111111111111, 0.4855188098273521, None)"
      ]
     },
     "execution_count": 24,
     "metadata": {},
     "output_type": "execute_result"
    }
   ],
   "source": [
    "model_default = svm.SVC()\n",
    "scores_default = cross_val_score(model_default, X=train, y=target, cv = FOLDS)\n",
    "model_default.fit(train, target)\n",
    "y_pred_default = model_default.predict(X_test)\n",
    "get_performance(X_test, y_test, y_pred_default)"
   ]
  },
  {
   "cell_type": "markdown",
   "metadata": {},
   "source": [
    "# MAPS"
   ]
  },
  {
   "cell_type": "code",
   "execution_count": 25,
   "metadata": {},
   "outputs": [],
   "source": [
    "import time \n",
    "import sys\n",
    "sys.path.insert(1, './mmd')\n",
    "from mmd import diagnoser\n",
    "from scipy import stats as st\n",
    "import numpy\n",
    "#notebook's library\n",
    "%matplotlib inline\n",
    "from helper import get_top_f1_rules, get_relevent_attributs_target, get_MMD_results, get_biased_features, get_BGMD_results\n",
    "from helper import generateTrain_data_Weights"
   ]
  },
  {
   "cell_type": "code",
   "execution_count": 26,
   "metadata": {},
   "outputs": [],
   "source": [
    "default_result = pd.concat([X_test, y_test], axis=1, join='inner')\n",
    "default_result.loc[:,\"pred\"] = y_pred_default"
   ]
  },
  {
   "cell_type": "code",
   "execution_count": 27,
   "metadata": {},
   "outputs": [],
   "source": [
    "def mispredict_label(row):\n",
    "    if row['target'] == row['pred']:\n",
    "        return False\n",
    "    return True"
   ]
  },
  {
   "cell_type": "code",
   "execution_count": 28,
   "metadata": {},
   "outputs": [],
   "source": [
    "default_result_copy = default_result.copy()\n",
    "X_test_copy = X_test.copy()\n",
    "X_test_copy['mispredict'] = default_result_copy.apply(lambda row: mispredict_label(row), axis=1)"
   ]
  },
  {
   "cell_type": "code",
   "execution_count": 29,
   "metadata": {},
   "outputs": [
    {
     "name": "stdout",
     "output_type": "stream",
     "text": [
      "Original Rule\n",
      "Subgroup Discovery Result\n",
      "\n",
      "Found \u001b[1m2\u001b[0m subgroups\n",
      "\u001b[1mDataset\u001b[0m\n",
      "Target: mispredict=True\n",
      "# Rows:\t9000\n",
      "# Cols:\t101\n",
      "% Target in dataset 47.69%\n",
      "========================================\n",
      "\u001b[1mSubgroup: f43<=4.07133\u001b[0m\n",
      "% of subgroup in population (Full Dataset):\t79.99% (7199 rows)\n",
      "Precision: P(mispredict=True | f43<=4.07133) = 49.24%\n",
      "Recall: P(f43<=4.07133 | mispredict=True) = 82.6%\n",
      "========================================\n",
      "\u001b[1mSubgroup: f43<=3.07003\u001b[0m\n",
      "% of subgroup in population (Full Dataset):\t59.82% (5384 rows)\n",
      "Precision: P(mispredict=True | f43<=3.07003) = 50.65%\n",
      "Recall: P(f43<=3.07003 | mispredict=True) = 63.54%\n",
      "\n",
      "###############################\n",
      "\n",
      "BGMD Rule\n",
      "Subgroup Discovery Result\n",
      "\n",
      "Found \u001b[1m2\u001b[0m subgroups\n",
      "\u001b[1mDataset\u001b[0m\n",
      "Target: mispredict=True\n",
      "# Rows:\t9000\n",
      "# Cols:\t101\n",
      "% Target in dataset 47.69%\n",
      "========================================\n",
      "\u001b[1mSubgroup: f43<=4.07133\u001b[0m\n",
      "% of subgroup in population (Full Dataset):\t79.99% (7199 rows)\n",
      "Precision: P(mispredict=True | f43<=4.07133) = 49.24%\n",
      "Recall: P(f43<=4.07133 | mispredict=True) = 82.6%\n",
      "========================================\n",
      "\u001b[1mSubgroup: f43<=3.07003\u001b[0m\n",
      "% of subgroup in population (Full Dataset):\t59.82% (5384 rows)\n",
      "Precision: P(mispredict=True | f43<=3.07003) = 50.65%\n",
      "Recall: P(f43<=3.07003 | mispredict=True) = 63.54%\n",
      "MMD Spent: 28.974404335021973 BGMD Spent: 16.32085156440735\n"
     ]
    },
    {
     "data": {
      "text/plain": [
       "([[0.6170046123052824, 0.49242950409779135, 0.825955265610438, 'f43<=4.07133'],\n",
       "  [0.5636626705250103,\n",
       "   0.5065007429420505,\n",
       "   0.6353681267474371,\n",
       "   'f43<=3.07003']],\n",
       " [[0.6170046123052824, 0.49242950409779135, 0.825955265610438, 'f43<=4.07133'],\n",
       "  [0.5636626705250103,\n",
       "   0.5065007429420505,\n",
       "   0.6353681267474371,\n",
       "   'f43<=3.07003']])"
      ]
     },
     "execution_count": 29,
     "metadata": {},
     "output_type": "execute_result"
    }
   ],
   "source": [
    "settings = diagnoser.Settings\n",
    "settings.all_rules = True\n",
    "# Get relevent attributes and target \n",
    "relevant_attributes, Target = get_relevent_attributs_target(X_test_copy)\n",
    "# Generate MMD rules and correspodning information\n",
    "MMD_rules, MMD_time, MMD_Features = get_MMD_results(X_test_copy, relevant_attributes, Target)\n",
    "\n",
    "#Get biased attributes this time \n",
    "biased_attributes = get_biased_features(X_test_copy, relevant_attributes)\n",
    "\n",
    "BGMD_rules, BGMD_time, BGMD_Features = get_BGMD_results(X_test_copy, biased_attributes, Target)\n",
    "\n",
    "print('MMD Spent:', MMD_time, 'BGMD Spent:', BGMD_time)\n",
    "MMD_rules, BGMD_rules"
   ]
  },
  {
   "cell_type": "markdown",
   "metadata": {},
   "source": [
    "# DT"
   ]
  },
  {
   "cell_type": "code",
   "execution_count": 30,
   "metadata": {},
   "outputs": [
    {
     "name": "stdout",
     "output_type": "stream",
     "text": [
      "Performance on all data\n",
      "Precision: 0.5482927892407136\n",
      "Recall: 0.5481111111111111\n",
      "F1 Score: 0.5481483526891013\n"
     ]
    },
    {
     "data": {
      "text/plain": [
       "(0.5482927892407136, 0.5481111111111111, 0.5481483526891013, None)"
      ]
     },
     "execution_count": 30,
     "metadata": {},
     "output_type": "execute_result"
    }
   ],
   "source": [
    "model_default = DecisionTreeClassifier()\n",
    "scores_default = cross_val_score(model_default, X=train, y=target, cv = FOLDS)\n",
    "model_default.fit(train, target)\n",
    "y_pred_default = model_default.predict(X_test)\n",
    "get_performance(X_test, y_test, y_pred_default)"
   ]
  },
  {
   "cell_type": "code",
   "execution_count": 31,
   "metadata": {},
   "outputs": [
    {
     "name": "stdout",
     "output_type": "stream",
     "text": [
      "Original Rule\n",
      "Subgroup Discovery Result\n",
      "\n",
      "Found \u001b[1m3\u001b[0m subgroups\n",
      "\u001b[1mDataset\u001b[0m\n",
      "Target: mispredict=True\n",
      "# Rows:\t9000\n",
      "# Cols:\t101\n",
      "% Target in dataset 45.19%\n",
      "========================================\n",
      "\u001b[1mSubgroup: f2<=172.454\u001b[0m\n",
      "% of subgroup in population (Full Dataset):\t60.03% (5403 rows)\n",
      "Precision: P(mispredict=True | f2<=172.454) = 46.38%\n",
      "Recall: P(f2<=172.454 | mispredict=True) = 61.62%\n",
      "========================================\n",
      "\u001b[1mSubgroup: f16<=0.0250106\u001b[0m\n",
      "% of subgroup in population (Full Dataset):\t39.99% (3599 rows)\n",
      "Precision: P(mispredict=True | f16<=0.0250106) = 46.93%\n",
      "Recall: P(f16<=0.0250106 | mispredict=True) = 41.53%\n",
      "========================================\n",
      "\u001b[1mSubgroup: f46>0.0726664\u001b[0m\n",
      "% of subgroup in population (Full Dataset):\t40.28% (3625 rows)\n",
      "Precision: P(mispredict=True | f46>0.0726664) = 46.76%\n",
      "Recall: P(f46>0.0726664 | mispredict=True) = 41.68%\n",
      "\n",
      "###############################\n",
      "\n",
      "BGMD Rule\n",
      "Subgroup Discovery Result\n",
      "\n",
      "Found \u001b[1m3\u001b[0m subgroups\n",
      "\u001b[1mDataset\u001b[0m\n",
      "Target: mispredict=True\n",
      "# Rows:\t9000\n",
      "# Cols:\t101\n",
      "% Target in dataset 45.19%\n",
      "========================================\n",
      "\u001b[1mSubgroup: f34<=2.98954\u001b[0m\n",
      "% of subgroup in population (Full Dataset):\t60.01% (5401 rows)\n",
      "Precision: P(mispredict=True | f34<=2.98954) = 46.2%\n",
      "Recall: P(f34<=2.98954 | mispredict=True) = 61.35%\n",
      "========================================\n",
      "\u001b[1mSubgroup: f34<=1.90474\u001b[0m\n",
      "% of subgroup in population (Full Dataset):\t39.98% (3598 rows)\n",
      "Precision: P(mispredict=True | f34<=1.90474) = 46.69%\n",
      "Recall: P(f34<=1.90474 | mispredict=True) = 41.31%\n",
      "========================================\n",
      "\u001b[1mSubgroup: f58<=0.00394169 & f57>4.08037\u001b[0m\n",
      "% of subgroup in population (Full Dataset):\t4.06% (365 rows)\n",
      "Precision: P(mispredict=True | f58<=0.00394169 & f57>4.08037) = 53.7%\n",
      "Recall: P(f58<=0.00394169 & f57>4.08037 | mispredict=True) = 4.82%\n",
      "MMD Spent: 91.29629826545715 BGMD Spent: 5.49711012840271\n"
     ]
    },
    {
     "data": {
      "text/plain": [
       "([[0.5292502639915523, 0.46381639829724225, 0.6161790017211703, 'f2<=172.454'],\n",
       "  [0.4407176287051482,\n",
       "   0.4675862068965517,\n",
       "   0.4167691172854684,\n",
       "   'f46>0.0726664'],\n",
       "  [0.4406470127837203,\n",
       "   0.4692970269519311,\n",
       "   0.4152938283747234,\n",
       "   'f16<=0.0250106']],\n",
       " [[0.5270384452893958, 0.4619514904647288, 0.6134743053848045, 'f34<=2.98954'],\n",
       "  [0.4383561643835616,\n",
       "   0.4669260700389105,\n",
       "   0.41308089500860584,\n",
       "   'f34<=1.90474'],\n",
       "  [0.0884476534296029,\n",
       "   0.536986301369863,\n",
       "   0.04819277108433735,\n",
       "   'f58<=0.00394169 & f57>4.08037']])"
      ]
     },
     "execution_count": 31,
     "metadata": {},
     "output_type": "execute_result"
    }
   ],
   "source": [
    "default_result = pd.concat([X_test, y_test], axis=1, join='inner')\n",
    "default_result.loc[:,\"pred\"] = y_pred_default\n",
    "default_result_copy = default_result.copy()\n",
    "X_test_copy = X_test.copy()\n",
    "X_test_copy['mispredict'] = default_result_copy.apply(lambda row: mispredict_label(row), axis=1)\n",
    "settings = diagnoser.Settings\n",
    "settings.all_rules = True\n",
    "# Get relevent attributes and target \n",
    "relevant_attributes, Target = get_relevent_attributs_target(X_test_copy)\n",
    "# Generate MMD rules and correspodning information\n",
    "MMD_rules, MMD_time, MMD_Features = get_MMD_results(X_test_copy, relevant_attributes, Target)\n",
    "\n",
    "#Get biased attributes this time \n",
    "biased_attributes = get_biased_features(X_test_copy, relevant_attributes)\n",
    "\n",
    "BGMD_rules, BGMD_time, BGMD_Features = get_BGMD_results(X_test_copy, biased_attributes, Target)\n",
    "\n",
    "print('MMD Spent:', MMD_time, 'BGMD Spent:', BGMD_time)\n",
    "MMD_rules, BGMD_rules"
   ]
  },
  {
   "cell_type": "code",
   "execution_count": null,
   "metadata": {},
   "outputs": [],
   "source": []
  }
 ],
 "metadata": {
  "kernelspec": {
   "display_name": "Python 3",
   "language": "python",
   "name": "python3"
  },
  "language_info": {
   "codemirror_mode": {
    "name": "ipython",
    "version": 3
   },
   "file_extension": ".py",
   "mimetype": "text/x-python",
   "name": "python",
   "nbconvert_exporter": "python",
   "pygments_lexer": "ipython3",
   "version": "3.8.5"
  }
 },
 "nbformat": 4,
 "nbformat_minor": 5
}
