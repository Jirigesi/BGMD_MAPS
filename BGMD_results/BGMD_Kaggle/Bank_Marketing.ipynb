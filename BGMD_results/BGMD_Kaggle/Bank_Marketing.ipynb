{
 "cells": [
  {
   "cell_type": "code",
   "execution_count": 13,
   "metadata": {},
   "outputs": [],
   "source": [
    "import pandas as pd\n",
    "import numpy as np\n",
    "from sklearn.preprocessing import LabelEncoder, StandardScaler, MinMaxScaler\n",
    "from sklearn.pipeline import make_pipeline\n",
    "from sklearn.compose import make_column_transformer\n",
    "from sklearn.model_selection import train_test_split, cross_val_score\n",
    "from sklearn import svm\n",
    "from sklearn.tree import DecisionTreeClassifier\n",
    "import matplotlib.pyplot as plt\n",
    "from imblearn.over_sampling import SMOTE\n",
    "from helper import get_performance\n",
    "\n",
    "EPOCHS = 700\n",
    "BATCH_SIZE = 2048\n",
    "ACTIVATION = 'swish'\n",
    "LEARNING_RATE = 0.0007\n",
    "FOLDS = 5"
   ]
  },
  {
   "cell_type": "code",
   "execution_count": 14,
   "metadata": {},
   "outputs": [],
   "source": [
    "data_dir = \"dataset/Bank_Marketing/\"\n",
    "data = pd.read_csv(data_dir + \"bank-additional-full.csv\", sep = ';')\n",
    "data = data.sample(frac=0.5, replace=True, random_state=1).reset_index(drop=True)\n",
    "\n",
    "data['y'].replace(['yes', 'no'], [0, 1], inplace=True)\n",
    "\n",
    "data['job'].replace(['housemaid' , 'services' , 'admin.' , 'blue-collar' , 'technician', 'retired' , 'management', 'unemployed', 'self-employed', 'unknown' , 'entrepreneur', 'student'] , [1, 2, 3, 4, 5, 6, 7, 8, 9, 10, 11, 12], inplace=True)\n",
    "\n",
    "data['education'].replace(['basic.4y' , 'high.school', 'basic.6y', 'basic.9y', 'professional.course', 'unknown' , 'university.degree' , 'illiterate'], [1, 2, 3, 4, 5, 6, 7, 8], inplace=True)\n",
    "\n",
    "data['marital'].replace(['married', 'single', 'divorced', 'unknown'], [1, 2, 3, 4], inplace=True)\n",
    "\n",
    "data['default'].replace(['yes', 'no', 'unknown'],[1, 2, 3], inplace=True)\n",
    "\n",
    "data['housing'].replace(['yes', 'no', 'unknown'],[1, 2, 3], inplace=True)\n",
    "\n",
    "data['loan'].replace(['yes', 'no', 'unknown'],[1, 2, 3], inplace=True)\n",
    "\n",
    "data['poutcome'].replace(['nonexistent', 'failure', 'success'], [1,2,3], inplace  = True)\n",
    "\n",
    "labelencoder_X = LabelEncoder()\n",
    "data['contact']     = labelencoder_X.fit_transform(data['contact']) \n",
    "data['month']       = labelencoder_X.fit_transform(data['month']) \n",
    "data['day_of_week'] = labelencoder_X.fit_transform(data['day_of_week']) \n",
    "\n",
    "data.rename(columns={'emp.var.rate' : 'emp_var_rate',\n",
    "                    'cons.price.idx' : 'cons_price_idx',\n",
    "                    'cons.conf.idx' : 'cons_conf_idx',\n",
    "                    'nr.employed' : 'nr_employed'}, inplace=True)\n",
    "y = data['y']\n",
    "data = data.drop(['y'], axis=1)\n",
    "X_train, X_test, y_train, y_test = train_test_split(data, y, test_size=0.33)"
   ]
  },
  {
   "cell_type": "code",
   "execution_count": 15,
   "metadata": {},
   "outputs": [
    {
     "data": {
      "text/plain": [
       "1    12277\n",
       "0     1520\n",
       "Name: y, dtype: int64"
      ]
     },
     "execution_count": 15,
     "metadata": {},
     "output_type": "execute_result"
    }
   ],
   "source": [
    "y_train.value_counts()"
   ]
  },
  {
   "cell_type": "code",
   "execution_count": 16,
   "metadata": {},
   "outputs": [
    {
     "data": {
      "text/plain": [
       "1    6039\n",
       "0     758\n",
       "Name: y, dtype: int64"
      ]
     },
     "execution_count": 16,
     "metadata": {},
     "output_type": "execute_result"
    }
   ],
   "source": [
    "y_test.value_counts()"
   ]
  },
  {
   "cell_type": "code",
   "execution_count": 17,
   "metadata": {},
   "outputs": [
    {
     "name": "stdout",
     "output_type": "stream",
     "text": [
      "(13797, 20) (13797,) (6797, 20) (6797,)\n"
     ]
    }
   ],
   "source": [
    "print(X_train.shape,y_train.shape,X_test.shape,y_test.shape)"
   ]
  },
  {
   "cell_type": "markdown",
   "metadata": {},
   "source": [
    "# Default Model"
   ]
  },
  {
   "cell_type": "code",
   "execution_count": 18,
   "metadata": {},
   "outputs": [
    {
     "name": "stdout",
     "output_type": "stream",
     "text": [
      "Performance on all data\n",
      "Precision: 0.8716904071237983\n",
      "Recall: 0.8952479034868325\n",
      "F1 Score: 0.8708174375564097\n"
     ]
    },
    {
     "data": {
      "text/plain": [
       "(0.8716904071237983, 0.8952479034868325, 0.8708174375564097, None)"
      ]
     },
     "execution_count": 18,
     "metadata": {},
     "output_type": "execute_result"
    }
   ],
   "source": [
    "model_default = svm.SVC()\n",
    "scores_default = cross_val_score(model_default, X=X_train, y=y_train, cv = FOLDS)\n",
    "model_default.fit(X_train, y_train)\n",
    "y_pred_default = model_default.predict(X_test)\n",
    "get_performance(X_test, y_test, y_pred_default)"
   ]
  },
  {
   "cell_type": "code",
   "execution_count": 19,
   "metadata": {},
   "outputs": [
    {
     "data": {
      "text/plain": [
       "1    6549\n",
       "0     248\n",
       "dtype: int64"
      ]
     },
     "execution_count": 19,
     "metadata": {},
     "output_type": "execute_result"
    }
   ],
   "source": [
    "pd.DataFrame(y_pred_default).value_counts()"
   ]
  },
  {
   "cell_type": "code",
   "execution_count": 20,
   "metadata": {},
   "outputs": [],
   "source": [
    "import time \n",
    "import sys\n",
    "sys.path.insert(1, './mmd')\n",
    "from mmd import diagnoser\n",
    "from scipy import stats as st\n",
    "import numpy\n",
    "#notebook's library\n",
    "%matplotlib inline\n",
    "from helper import get_top_f1_rules, get_relevent_attributs_target, get_MMD_results, get_biased_features, get_BGMD_results\n",
    "from helper import generateTrain_data_Weights"
   ]
  },
  {
   "cell_type": "code",
   "execution_count": 21,
   "metadata": {},
   "outputs": [],
   "source": [
    "default_result = pd.concat([X_test, y_test], axis=1, join='inner')\n",
    "default_result.loc[:,\"pred\"] = y_pred_default"
   ]
  },
  {
   "cell_type": "code",
   "execution_count": 22,
   "metadata": {},
   "outputs": [],
   "source": [
    "def mispredict_label(row):\n",
    "    if row['y'] == row['pred']:\n",
    "        return False\n",
    "    return True"
   ]
  },
  {
   "cell_type": "code",
   "execution_count": 23,
   "metadata": {},
   "outputs": [],
   "source": [
    "default_result_copy = default_result.copy()\n",
    "X_test_copy = X_test.copy()\n",
    "X_test_copy['mispredict'] = default_result_copy.apply(lambda row: mispredict_label(row), axis=1)"
   ]
  },
  {
   "cell_type": "code",
   "execution_count": 24,
   "metadata": {},
   "outputs": [
    {
     "name": "stdout",
     "output_type": "stream",
     "text": [
      "Original Rule\n",
      "Subgroup Discovery Result\n",
      "\n",
      "Found \u001b[1m3\u001b[0m subgroups\n",
      "\u001b[1mDataset\u001b[0m\n",
      "Target: mispredict=True\n",
      "# Rows:\t6797\n",
      "# Cols:\t21\n",
      "% Target in dataset 10.48%\n",
      "========================================\n",
      "\u001b[1mSubgroup: duration>844\u001b[0m\n",
      "% of subgroup in population (Full Dataset):\t3.5% (238 rows)\n",
      "Precision: P(mispredict=True | duration>844) = 59.66%\n",
      "Recall: P(duration>844 | mispredict=True) = 19.94%\n",
      "========================================\n",
      "\u001b[1mSubgroup: duration>383 & euribor3m<=0.729\u001b[0m\n",
      "% of subgroup in population (Full Dataset):\t0.82% (56 rows)\n",
      "Precision: P(mispredict=True | duration>383 & euribor3m<=0.729) = 67.86%\n",
      "Recall: P(duration>383 & euribor3m<=0.729 | mispredict=True) = 5.34%\n",
      "========================================\n",
      "\u001b[1mSubgroup: duration>582\u001b[0m\n",
      "% of subgroup in population (Full Dataset):\t8.78% (597 rows)\n",
      "Precision: P(mispredict=True | duration>582) = 45.9%\n",
      "Recall: P(duration>582 | mispredict=True) = 38.48%\n",
      "\n",
      "###############################\n",
      "\n",
      "BGMD Rule\n",
      "Subgroup Discovery Result\n",
      "\n",
      "Found \u001b[1m3\u001b[0m subgroups\n",
      "\u001b[1mDataset\u001b[0m\n",
      "Target: mispredict=True\n",
      "# Rows:\t6797\n",
      "# Cols:\t21\n",
      "% Target in dataset 10.48%\n",
      "========================================\n",
      "\u001b[1mSubgroup: duration>844\u001b[0m\n",
      "% of subgroup in population (Full Dataset):\t3.5% (238 rows)\n",
      "Precision: P(mispredict=True | duration>844) = 59.66%\n",
      "Recall: P(duration>844 | mispredict=True) = 19.94%\n",
      "========================================\n",
      "\u001b[1mSubgroup: duration>383 & euribor3m<=0.729\u001b[0m\n",
      "% of subgroup in population (Full Dataset):\t0.82% (56 rows)\n",
      "Precision: P(mispredict=True | duration>383 & euribor3m<=0.729) = 67.86%\n",
      "Recall: P(duration>383 & euribor3m<=0.729 | mispredict=True) = 5.34%\n",
      "========================================\n",
      "\u001b[1mSubgroup: duration>582\u001b[0m\n",
      "% of subgroup in population (Full Dataset):\t8.78% (597 rows)\n",
      "Precision: P(mispredict=True | duration>582) = 45.9%\n",
      "Recall: P(duration>582 | mispredict=True) = 38.48%\n",
      "MMD Spent: 30.58374547958374 BGMD Spent: 8.212661981582642\n"
     ]
    },
    {
     "data": {
      "text/plain": [
       "([[0.4186401833460657,\n",
       "   0.45896147403685095,\n",
       "   0.3848314606741573,\n",
       "   'duration>582'],\n",
       "  [0.29894736842105263, 0.5966386554621849, 0.199438202247191, 'duration>844'],\n",
       "  [0.09895833333333334,\n",
       "   0.6785714285714286,\n",
       "   0.05337078651685393,\n",
       "   'duration>383 & euribor3m<=0.729']],\n",
       " [[0.4186401833460657,\n",
       "   0.45896147403685095,\n",
       "   0.3848314606741573,\n",
       "   'duration>582'],\n",
       "  [0.29894736842105263, 0.5966386554621849, 0.199438202247191, 'duration>844'],\n",
       "  [0.09895833333333334,\n",
       "   0.6785714285714286,\n",
       "   0.05337078651685393,\n",
       "   'duration>383 & euribor3m<=0.729']])"
      ]
     },
     "execution_count": 24,
     "metadata": {},
     "output_type": "execute_result"
    }
   ],
   "source": [
    "settings = diagnoser.Settings\n",
    "settings.all_rules = True\n",
    "# Get relevent attributes and target \n",
    "relevant_attributes, Target = get_relevent_attributs_target(X_test_copy)\n",
    "# Generate MMD rules and correspodning information\n",
    "MMD_rules, MMD_time, MMD_Features = get_MMD_results(X_test_copy, relevant_attributes, Target)\n",
    "\n",
    "#Get biased attributes this time \n",
    "biased_attributes = get_biased_features(X_test_copy, relevant_attributes)\n",
    "\n",
    "BGMD_rules, BGMD_time, BGMD_Features = get_BGMD_results(X_test_copy, biased_attributes, Target)\n",
    "\n",
    "print('MMD Spent:', MMD_time, 'BGMD Spent:', BGMD_time)\n",
    "MMD_rules, BGMD_rules"
   ]
  },
  {
   "cell_type": "markdown",
   "metadata": {},
   "source": [
    "# Decision Tree"
   ]
  },
  {
   "cell_type": "code",
   "execution_count": 25,
   "metadata": {},
   "outputs": [
    {
     "name": "stdout",
     "output_type": "stream",
     "text": [
      "Performance on all data\n",
      "Precision: 0.9202327632004054\n",
      "Recall: 0.9184934529939679\n",
      "F1 Score: 0.9193169274809054\n"
     ]
    },
    {
     "data": {
      "text/plain": [
       "(0.9202327632004054, 0.9184934529939679, 0.9193169274809054, None)"
      ]
     },
     "execution_count": 25,
     "metadata": {},
     "output_type": "execute_result"
    }
   ],
   "source": [
    "model_default = DecisionTreeClassifier()\n",
    "scores_default = cross_val_score(model_default, X=X_train, y=y_train, cv = FOLDS)\n",
    "model_default.fit(X_train, y_train)\n",
    "y_pred_default = model_default.predict(X_test)\n",
    "get_performance(X_test, y_test, y_pred_default)"
   ]
  },
  {
   "cell_type": "code",
   "execution_count": 26,
   "metadata": {},
   "outputs": [
    {
     "name": "stdout",
     "output_type": "stream",
     "text": [
      "Original Rule\n",
      "Subgroup Discovery Result\n",
      "\n",
      "Found \u001b[1m3\u001b[0m subgroups\n",
      "\u001b[1mDataset\u001b[0m\n",
      "Target: mispredict=True\n",
      "# Rows:\t6797\n",
      "# Cols:\t21\n",
      "% Target in dataset 8.15%\n",
      "========================================\n",
      "\u001b[1mSubgroup: duration>582\u001b[0m\n",
      "% of subgroup in population (Full Dataset):\t8.78% (597 rows)\n",
      "Precision: P(mispredict=True | duration>582) = 33.33%\n",
      "Recall: P(duration>582 | mispredict=True) = 35.92%\n",
      "========================================\n",
      "\u001b[1mSubgroup: duration>844\u001b[0m\n",
      "% of subgroup in population (Full Dataset):\t3.5% (238 rows)\n",
      "Precision: P(mispredict=True | duration>844) = 35.71%\n",
      "Recall: P(duration>844 | mispredict=True) = 15.34%\n",
      "========================================\n",
      "\u001b[1mSubgroup: duration>844 & day_of_week>3\u001b[0m\n",
      "% of subgroup in population (Full Dataset):\t0.91% (62 rows)\n",
      "Precision: P(mispredict=True | duration>844 & day_of_week>3) = 46.77%\n",
      "Recall: P(duration>844 & day_of_week>3 | mispredict=True) = 5.23%\n",
      "\n",
      "###############################\n",
      "\n",
      "BGMD Rule\n",
      "Subgroup Discovery Result\n",
      "\n",
      "Found \u001b[1m3\u001b[0m subgroups\n",
      "\u001b[1mDataset\u001b[0m\n",
      "Target: mispredict=True\n",
      "# Rows:\t6797\n",
      "# Cols:\t21\n",
      "% Target in dataset 8.15%\n",
      "========================================\n",
      "\u001b[1mSubgroup: duration>582\u001b[0m\n",
      "% of subgroup in population (Full Dataset):\t8.78% (597 rows)\n",
      "Precision: P(mispredict=True | duration>582) = 33.33%\n",
      "Recall: P(duration>582 | mispredict=True) = 35.92%\n",
      "========================================\n",
      "\u001b[1mSubgroup: duration>844\u001b[0m\n",
      "% of subgroup in population (Full Dataset):\t3.5% (238 rows)\n",
      "Precision: P(mispredict=True | duration>844) = 35.71%\n",
      "Recall: P(duration>844 | mispredict=True) = 15.34%\n",
      "========================================\n",
      "\u001b[1mSubgroup: duration>844 & day_of_week>3\u001b[0m\n",
      "% of subgroup in population (Full Dataset):\t0.91% (62 rows)\n",
      "Precision: P(mispredict=True | duration>844 & day_of_week>3) = 46.77%\n",
      "Recall: P(duration>844 & day_of_week>3 | mispredict=True) = 5.23%\n",
      "MMD Spent: 27.56460690498352 BGMD Spent: 7.301410913467407\n"
     ]
    },
    {
     "data": {
      "text/plain": [
       "([[0.34578627280625546,\n",
       "   0.3333333333333333,\n",
       "   0.3592057761732852,\n",
       "   'duration>582'],\n",
       "  [0.21464646464646464,\n",
       "   0.35714285714285715,\n",
       "   0.15342960288808663,\n",
       "   'duration>844'],\n",
       "  [0.09415584415584415,\n",
       "   0.46774193548387094,\n",
       "   0.052346570397111915,\n",
       "   'duration>844 & day_of_week>3']],\n",
       " [[0.34578627280625546,\n",
       "   0.3333333333333333,\n",
       "   0.3592057761732852,\n",
       "   'duration>582'],\n",
       "  [0.21464646464646464,\n",
       "   0.35714285714285715,\n",
       "   0.15342960288808663,\n",
       "   'duration>844'],\n",
       "  [0.09415584415584415,\n",
       "   0.46774193548387094,\n",
       "   0.052346570397111915,\n",
       "   'duration>844 & day_of_week>3']])"
      ]
     },
     "execution_count": 26,
     "metadata": {},
     "output_type": "execute_result"
    }
   ],
   "source": [
    "default_result = pd.concat([X_test, y_test], axis=1, join='inner')\n",
    "default_result.loc[:,\"pred\"] = y_pred_default\n",
    "default_result_copy = default_result.copy()\n",
    "X_test_copy = X_test.copy()\n",
    "X_test_copy['mispredict'] = default_result_copy.apply(lambda row: mispredict_label(row), axis=1)\n",
    "settings = diagnoser.Settings\n",
    "settings.all_rules = True\n",
    "# Get relevent attributes and target \n",
    "relevant_attributes, Target = get_relevent_attributs_target(X_test_copy)\n",
    "# Generate MMD rules and correspodning information\n",
    "MMD_rules, MMD_time, MMD_Features = get_MMD_results(X_test_copy, relevant_attributes, Target)\n",
    "\n",
    "#Get biased attributes this time \n",
    "biased_attributes = get_biased_features(X_test_copy, relevant_attributes)\n",
    "\n",
    "BGMD_rules, BGMD_time, BGMD_Features = get_BGMD_results(X_test_copy, biased_attributes, Target)\n",
    "\n",
    "print('MMD Spent:', MMD_time, 'BGMD Spent:', BGMD_time)\n",
    "MMD_rules, BGMD_rules"
   ]
  }
 ],
 "metadata": {
  "kernelspec": {
   "display_name": "Python 3",
   "language": "python",
   "name": "python3"
  },
  "language_info": {
   "codemirror_mode": {
    "name": "ipython",
    "version": 3
   },
   "file_extension": ".py",
   "mimetype": "text/x-python",
   "name": "python",
   "nbconvert_exporter": "python",
   "pygments_lexer": "ipython3",
   "version": "3.8.5"
  }
 },
 "nbformat": 4,
 "nbformat_minor": 5
}
