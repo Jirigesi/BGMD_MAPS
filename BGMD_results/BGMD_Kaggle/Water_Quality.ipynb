{
 "cells": [
  {
   "cell_type": "code",
   "execution_count": 83,
   "metadata": {},
   "outputs": [],
   "source": [
    "import pandas as pd\n",
    "import numpy as np\n",
    "from sklearn.preprocessing import LabelEncoder, StandardScaler, MinMaxScaler\n",
    "from sklearn.pipeline import make_pipeline\n",
    "from sklearn.compose import make_column_transformer\n",
    "from sklearn.model_selection import train_test_split, cross_val_score\n",
    "from sklearn import svm\n",
    "from sklearn.tree import DecisionTreeClassifier\n",
    "import matplotlib.pyplot as plt\n",
    "from imblearn.over_sampling import SMOTE\n",
    "from helper import get_performance\n",
    "\n",
    "EPOCHS = 700\n",
    "BATCH_SIZE = 2048\n",
    "ACTIVATION = 'swish'\n",
    "LEARNING_RATE = 0.0007\n",
    "FOLDS = 5"
   ]
  },
  {
   "cell_type": "code",
   "execution_count": 84,
   "metadata": {},
   "outputs": [],
   "source": [
    "data_dir = \"dataset/Water_Quality/\"\n",
    "data = pd.read_csv(data_dir + \"water_potability.csv\")\n",
    "data = data.sample(frac=1, replace=True, random_state=1).reset_index(drop=True)\n",
    "data = data.dropna()\n",
    "label = data.columns[-1]\n",
    "features = data.columns[:-1]\n",
    "# Separate the data\n",
    "X, y = data[features], data[label]\n",
    "X_train, X_test, y_train, y_test = train_test_split(X, y, test_size=0.33)"
   ]
  },
  {
   "cell_type": "code",
   "execution_count": 85,
   "metadata": {},
   "outputs": [
    {
     "data": {
      "text/plain": [
       "0    819\n",
       "1    503\n",
       "Name: Potability, dtype: int64"
      ]
     },
     "execution_count": 85,
     "metadata": {},
     "output_type": "execute_result"
    }
   ],
   "source": [
    "y_train.value_counts()"
   ]
  },
  {
   "cell_type": "code",
   "execution_count": 86,
   "metadata": {},
   "outputs": [
    {
     "data": {
      "text/plain": [
       "0    398\n",
       "1    254\n",
       "Name: Potability, dtype: int64"
      ]
     },
     "execution_count": 86,
     "metadata": {},
     "output_type": "execute_result"
    }
   ],
   "source": [
    "y_test.value_counts()"
   ]
  },
  {
   "cell_type": "code",
   "execution_count": 87,
   "metadata": {},
   "outputs": [
    {
     "name": "stdout",
     "output_type": "stream",
     "text": [
      "(1322, 9) (1322,) (652, 9) (652,)\n"
     ]
    }
   ],
   "source": [
    "print(X_train.shape,y_train.shape,X_test.shape,y_test.shape)"
   ]
  },
  {
   "cell_type": "markdown",
   "metadata": {},
   "source": [
    "# Default Model"
   ]
  },
  {
   "cell_type": "code",
   "execution_count": 88,
   "metadata": {},
   "outputs": [
    {
     "name": "stdout",
     "output_type": "stream",
     "text": [
      "Performance on all data\n",
      "Precision: 0.5180195164024661\n",
      "Recall: 0.5322085889570553\n",
      "F1 Score: 0.5231311049971578\n"
     ]
    },
    {
     "data": {
      "text/plain": [
       "(0.5180195164024661, 0.5322085889570553, 0.5231311049971578, None)"
      ]
     },
     "execution_count": 88,
     "metadata": {},
     "output_type": "execute_result"
    }
   ],
   "source": [
    "model_default = svm.SVC(kernel='sigmoid')\n",
    "scores_default = cross_val_score(model_default, X=X_train, y=y_train, cv = FOLDS)\n",
    "model_default.fit(X_train, y_train)\n",
    "y_pred_default = model_default.predict(X_test)\n",
    "get_performance(X_test, y_test, y_pred_default)"
   ]
  },
  {
   "cell_type": "code",
   "execution_count": 89,
   "metadata": {},
   "outputs": [
    {
     "data": {
      "text/plain": [
       "0    439\n",
       "1    213\n",
       "dtype: int64"
      ]
     },
     "execution_count": 89,
     "metadata": {},
     "output_type": "execute_result"
    }
   ],
   "source": [
    "pd.DataFrame(y_pred_default).value_counts()"
   ]
  },
  {
   "cell_type": "code",
   "execution_count": 90,
   "metadata": {},
   "outputs": [],
   "source": [
    "import time \n",
    "import sys\n",
    "sys.path.insert(1, './mmd')\n",
    "from mmd import diagnoser\n",
    "from scipy import stats as st\n",
    "import numpy\n",
    "#notebook's library\n",
    "%matplotlib inline\n",
    "from helper import get_top_f1_rules, get_relevent_attributs_target, get_MMD_results, get_biased_features, get_BGMD_results\n",
    "from helper import generateTrain_data_Weights"
   ]
  },
  {
   "cell_type": "code",
   "execution_count": 91,
   "metadata": {},
   "outputs": [],
   "source": [
    "default_result = pd.concat([X_test, y_test], axis=1, join='inner')\n",
    "default_result.loc[:,\"pred\"] = y_pred_default"
   ]
  },
  {
   "cell_type": "code",
   "execution_count": 92,
   "metadata": {},
   "outputs": [],
   "source": [
    "def mispredict_label(row):\n",
    "    if row['Potability'] == row['pred']:\n",
    "        return False\n",
    "    return True"
   ]
  },
  {
   "cell_type": "code",
   "execution_count": 93,
   "metadata": {},
   "outputs": [],
   "source": [
    "default_result_copy = default_result.copy()\n",
    "X_test_copy = X_test.copy()\n",
    "X_test_copy['mispredict'] = default_result_copy.apply(lambda row: mispredict_label(row), axis=1)"
   ]
  },
  {
   "cell_type": "code",
   "execution_count": 94,
   "metadata": {},
   "outputs": [
    {
     "name": "stdout",
     "output_type": "stream",
     "text": [
      "Original Rule\n",
      "Subgroup Discovery Result\n",
      "\n",
      "Found \u001b[1m3\u001b[0m subgroups\n",
      "\u001b[1mDataset\u001b[0m\n",
      "Target: mispredict=True\n",
      "# Rows:\t652\n",
      "# Cols:\t10\n",
      "% Target in dataset 46.78%\n",
      "========================================\n",
      "\u001b[1mSubgroup: Chloramines<=5.83068529423083\u001b[0m\n",
      "% of subgroup in population (Full Dataset):\t19.79% (129 rows)\n",
      "Precision: P(mispredict=True | Chloramines<=5.83068529423083) = 58.91%\n",
      "Recall: P(Chloramines<=5.83068529423083 | mispredict=True) = 24.92%\n",
      "========================================\n",
      "\u001b[1mSubgroup: Solids<=19635.58825474065\u001b[0m\n",
      "% of subgroup in population (Full Dataset):\t40.34% (263 rows)\n",
      "Precision: P(mispredict=True | Solids<=19635.58825474065) = 55.51%\n",
      "Recall: P(Solids<=19635.58825474065 | mispredict=True) = 47.87%\n",
      "========================================\n",
      "\u001b[1mSubgroup: Solids<=19635.58825474065 & Organic_carbon<=11.48268699578233\u001b[0m\n",
      "% of subgroup in population (Full Dataset):\t7.21% (47 rows)\n",
      "Precision: P(mispredict=True | Solids<=19635.58825474065 & Organic_carbon<=11.48268699578233) = 74.47%\n",
      "Recall: P(Solids<=19635.58825474065 & Organic_carbon<=11.48268699578233 | mispredict=True) = 11.48%\n",
      "\n",
      "###############################\n",
      "\n",
      "BGMD Rule\n",
      "Subgroup Discovery Result\n",
      "\n",
      "Found \u001b[1m3\u001b[0m subgroups\n",
      "\u001b[1mDataset\u001b[0m\n",
      "Target: mispredict=True\n",
      "# Rows:\t652\n",
      "# Cols:\t10\n",
      "% Target in dataset 46.78%\n",
      "========================================\n",
      "\u001b[1mSubgroup: Organic_carbon<=17.128023270048516\u001b[0m\n",
      "% of subgroup in population (Full Dataset):\t80.21% (523 rows)\n",
      "Precision: P(mispredict=True | Organic_carbon<=17.128023270048516) = 48.95%\n",
      "Recall: P(Organic_carbon<=17.128023270048516 | mispredict=True) = 83.93%\n",
      "========================================\n",
      "\u001b[1mSubgroup: Hardness<=203.4193306887763\u001b[0m\n",
      "% of subgroup in population (Full Dataset):\t58.9% (384 rows)\n",
      "Precision: P(mispredict=True | Hardness<=203.4193306887763) = 51.3%\n",
      "Recall: P(Hardness<=203.4193306887763 | mispredict=True) = 64.59%\n",
      "========================================\n",
      "\u001b[1mSubgroup: Organic_carbon<=11.48268699578233\u001b[0m\n",
      "% of subgroup in population (Full Dataset):\t19.48% (127 rows)\n",
      "Precision: P(mispredict=True | Organic_carbon<=11.48268699578233) = 55.91%\n",
      "Recall: P(Organic_carbon<=11.48268699578233 | mispredict=True) = 23.28%\n",
      "MMD Spent: 8.2038254737854 BGMD Spent: 1.1343538761138916\n"
     ]
    },
    {
     "data": {
      "text/plain": [
       "([[0.5140845070422536,\n",
       "   0.5551330798479087,\n",
       "   0.4786885245901639,\n",
       "   'Solids<=19635.58825474065'],\n",
       "  [0.3502304147465438,\n",
       "   0.5891472868217055,\n",
       "   0.24918032786885247,\n",
       "   'Chloramines<=5.83068529423083'],\n",
       "  [0.19886363636363635,\n",
       "   0.7446808510638298,\n",
       "   0.11475409836065574,\n",
       "   'Solids<=19635.58825474065 & Organic_carbon<=11.48268699578233']],\n",
       " [[0.6183574879227053,\n",
       "   0.4894837476099426,\n",
       "   0.839344262295082,\n",
       "   'Organic_carbon<=17.128023270048516'],\n",
       "  [0.5718432510885341,\n",
       "   0.5130208333333334,\n",
       "   0.6459016393442623,\n",
       "   'Hardness<=203.4193306887763'],\n",
       "  [0.3287037037037037,\n",
       "   0.5590551181102362,\n",
       "   0.23278688524590163,\n",
       "   'Organic_carbon<=11.48268699578233']])"
      ]
     },
     "execution_count": 94,
     "metadata": {},
     "output_type": "execute_result"
    }
   ],
   "source": [
    "settings = diagnoser.Settings\n",
    "settings.all_rules = True\n",
    "# Get relevent attributes and target \n",
    "relevant_attributes, Target = get_relevent_attributs_target(X_test_copy)\n",
    "# Generate MMD rules and correspodning information\n",
    "MMD_rules, MMD_time, MMD_Features = get_MMD_results(X_test_copy, relevant_attributes, Target)\n",
    "\n",
    "#Get biased attributes this time \n",
    "biased_attributes = get_biased_features(X_test_copy, relevant_attributes)\n",
    "\n",
    "BGMD_rules, BGMD_time, BGMD_Features = get_BGMD_results(X_test_copy, biased_attributes, Target)\n",
    "\n",
    "print('MMD Spent:', MMD_time, 'BGMD Spent:', BGMD_time)\n",
    "MMD_rules, BGMD_rules"
   ]
  },
  {
   "cell_type": "markdown",
   "metadata": {},
   "source": [
    "# Decision Tree"
   ]
  },
  {
   "cell_type": "code",
   "execution_count": 95,
   "metadata": {},
   "outputs": [
    {
     "name": "stdout",
     "output_type": "stream",
     "text": [
      "Performance on all data\n",
      "Precision: 0.8246461095207238\n",
      "Recall: 0.8236196319018405\n",
      "F1 Score: 0.8240359110139183\n"
     ]
    },
    {
     "data": {
      "text/plain": [
       "(0.8246461095207238, 0.8236196319018405, 0.8240359110139183, None)"
      ]
     },
     "execution_count": 95,
     "metadata": {},
     "output_type": "execute_result"
    }
   ],
   "source": [
    "model_default = DecisionTreeClassifier()\n",
    "scores_default = cross_val_score(model_default, X=X_train, y=y_train, cv = FOLDS)\n",
    "model_default.fit(X_train, y_train)\n",
    "y_pred_default = model_default.predict(X_test)\n",
    "get_performance(X_test, y_test, y_pred_default)"
   ]
  },
  {
   "cell_type": "code",
   "execution_count": 96,
   "metadata": {},
   "outputs": [
    {
     "name": "stdout",
     "output_type": "stream",
     "text": [
      "Original Rule\n",
      "Subgroup Discovery Result\n",
      "\n",
      "Found \u001b[1m3\u001b[0m subgroups\n",
      "\u001b[1mDataset\u001b[0m\n",
      "Target: mispredict=True\n",
      "# Rows:\t652\n",
      "# Cols:\t10\n",
      "% Target in dataset 17.64%\n",
      "========================================\n",
      "\u001b[1mSubgroup: ph<=8.205550719357213\u001b[0m\n",
      "% of subgroup in population (Full Dataset):\t79.45% (518 rows)\n",
      "Precision: P(mispredict=True | ph<=8.205550719357213) = 19.5%\n",
      "Recall: P(ph<=8.205550719357213 | mispredict=True) = 87.83%\n",
      "========================================\n",
      "\u001b[1mSubgroup: Hardness<=203.4193306887763\u001b[0m\n",
      "% of subgroup in population (Full Dataset):\t58.9% (384 rows)\n",
      "Precision: P(mispredict=True | Hardness<=203.4193306887763) = 20.57%\n",
      "Recall: P(Hardness<=203.4193306887763 | mispredict=True) = 68.7%\n",
      "========================================\n",
      "\u001b[1mSubgroup: Conductivity<=446.9924646420934\u001b[0m\n",
      "% of subgroup in population (Full Dataset):\t59.66% (389 rows)\n",
      "Precision: P(mispredict=True | Conductivity<=446.9924646420934) = 20.31%\n",
      "Recall: P(Conductivity<=446.9924646420934 | mispredict=True) = 68.7%\n",
      "\n",
      "###############################\n",
      "\n",
      "BGMD Rule\n",
      "Subgroup Discovery Result\n",
      "\n",
      "Found \u001b[1m3\u001b[0m subgroups\n",
      "\u001b[1mDataset\u001b[0m\n",
      "Target: mispredict=True\n",
      "# Rows:\t652\n",
      "# Cols:\t10\n",
      "% Target in dataset 17.64%\n",
      "========================================\n",
      "\u001b[1mSubgroup: Sulfate>301.4297472651064\u001b[0m\n",
      "% of subgroup in population (Full Dataset):\t80.37% (524 rows)\n",
      "Precision: P(mispredict=True | Sulfate>301.4297472651064) = 18.7%\n",
      "Recall: P(Sulfate>301.4297472651064 | mispredict=True) = 85.22%\n",
      "========================================\n",
      "\u001b[1mSubgroup: Sulfate>341.53708898075774\u001b[0m\n",
      "% of subgroup in population (Full Dataset):\t39.11% (255 rows)\n",
      "Precision: P(mispredict=True | Sulfate>341.53708898075774) = 22.75%\n",
      "Recall: P(Sulfate>341.53708898075774 | mispredict=True) = 50.43%\n",
      "========================================\n",
      "\u001b[1mSubgroup: Sulfate>324.05559223457215\u001b[0m\n",
      "% of subgroup in population (Full Dataset):\t59.97% (391 rows)\n",
      "Precision: P(mispredict=True | Sulfate>324.05559223457215) = 18.93%\n",
      "Recall: P(Sulfate>324.05559223457215 | mispredict=True) = 64.35%\n",
      "MMD Spent: 4.4575419425964355 BGMD Spent: 0.11678075790405273\n"
     ]
    },
    {
     "data": {
      "text/plain": [
       "([[0.31911532385466035,\n",
       "   0.19498069498069498,\n",
       "   0.8782608695652174,\n",
       "   'ph<=8.205550719357213'],\n",
       "  [0.3166332665330661,\n",
       "   0.20572916666666666,\n",
       "   0.6869565217391305,\n",
       "   'Hardness<=203.4193306887763'],\n",
       "  [0.3134920634920635,\n",
       "   0.20308483290488433,\n",
       "   0.6869565217391305,\n",
       "   'Conductivity<=446.9924646420934']],\n",
       " [[0.31351351351351353,\n",
       "   0.22745098039215686,\n",
       "   0.5043478260869565,\n",
       "   'Sulfate>341.53708898075774'],\n",
       "  [0.30672926447574334,\n",
       "   0.18702290076335878,\n",
       "   0.8521739130434782,\n",
       "   'Sulfate>301.4297472651064'],\n",
       "  [0.2924901185770751,\n",
       "   0.18925831202046037,\n",
       "   0.6434782608695652,\n",
       "   'Sulfate>324.05559223457215']])"
      ]
     },
     "execution_count": 96,
     "metadata": {},
     "output_type": "execute_result"
    }
   ],
   "source": [
    "default_result = pd.concat([X_test, y_test], axis=1, join='inner')\n",
    "default_result.loc[:,\"pred\"] = y_pred_default\n",
    "default_result_copy = default_result.copy()\n",
    "X_test_copy = X_test.copy()\n",
    "X_test_copy['mispredict'] = default_result_copy.apply(lambda row: mispredict_label(row), axis=1)\n",
    "settings = diagnoser.Settings\n",
    "settings.all_rules = True\n",
    "# Get relevent attributes and target \n",
    "relevant_attributes, Target = get_relevent_attributs_target(X_test_copy)\n",
    "# Generate MMD rules and correspodning information\n",
    "MMD_rules, MMD_time, MMD_Features = get_MMD_results(X_test_copy, relevant_attributes, Target)\n",
    "\n",
    "#Get biased attributes this time \n",
    "biased_attributes = get_biased_features(X_test_copy, relevant_attributes)\n",
    "\n",
    "BGMD_rules, BGMD_time, BGMD_Features = get_BGMD_results(X_test_copy, biased_attributes, Target)\n",
    "\n",
    "print('MMD Spent:', MMD_time, 'BGMD Spent:', BGMD_time)\n",
    "MMD_rules, BGMD_rules"
   ]
  },
  {
   "cell_type": "code",
   "execution_count": null,
   "metadata": {},
   "outputs": [],
   "source": []
  }
 ],
 "metadata": {
  "kernelspec": {
   "display_name": "Python 3",
   "language": "python",
   "name": "python3"
  },
  "language_info": {
   "codemirror_mode": {
    "name": "ipython",
    "version": 3
   },
   "file_extension": ".py",
   "mimetype": "text/x-python",
   "name": "python",
   "nbconvert_exporter": "python",
   "pygments_lexer": "ipython3",
   "version": "3.8.5"
  }
 },
 "nbformat": 4,
 "nbformat_minor": 5
}
