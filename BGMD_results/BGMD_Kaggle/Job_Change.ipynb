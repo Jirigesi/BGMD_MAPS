{
 "cells": [
  {
   "cell_type": "code",
   "execution_count": 12,
   "metadata": {},
   "outputs": [],
   "source": [
    "import pandas as pd\n",
    "import numpy as np\n",
    "from sklearn.preprocessing import LabelEncoder, StandardScaler, MinMaxScaler\n",
    "from sklearn.pipeline import make_pipeline\n",
    "from sklearn.compose import make_column_transformer\n",
    "from sklearn.model_selection import train_test_split, cross_val_score\n",
    "from sklearn import svm\n",
    "from sklearn.tree import DecisionTreeClassifier\n",
    "import matplotlib.pyplot as plt\n",
    "from imblearn.over_sampling import SMOTE\n",
    "from helper import get_performance\n",
    "\n",
    "EPOCHS = 700\n",
    "BATCH_SIZE = 2048\n",
    "ACTIVATION = 'swish'\n",
    "LEARNING_RATE = 0.0007\n",
    "FOLDS = 5"
   ]
  },
  {
   "cell_type": "code",
   "execution_count": 13,
   "metadata": {},
   "outputs": [
    {
     "name": "stdout",
     "output_type": "stream",
     "text": [
      "Train data:  (13410, 13)\n",
      "Test data:  (5748, 13)\n"
     ]
    }
   ],
   "source": [
    "# Reading the dataset\n",
    "data = pd.read_csv(\"dataset/Job_Change/aug_train.csv\")\n",
    "aug_train = data.sample(frac=1, replace=True, random_state=1).reset_index(drop=True)\n",
    "\n",
    "# Seperate aug_train into target and features \n",
    "y = aug_train['target']\n",
    "X_aug_train = aug_train.drop('target',axis = 'columns')\n",
    "# save the index for X_aug_train \n",
    "X_aug_train_index = X_aug_train.index.to_list()\n",
    "\n",
    "class MultiColumnLabelEncoder:\n",
    "    def __init__(self,columns = None):\n",
    "        self.columns = columns # array of column names to encode\n",
    "\n",
    "    def fit(self,X,y=None):\n",
    "        return self # not relevant here\n",
    "\n",
    "    def transform(self,X):\n",
    "        '''\n",
    "        Transforms columns of X specified in self.columns using\n",
    "        LabelEncoder(). If no columns specified, transforms all\n",
    "        columns in X.\n",
    "        '''\n",
    "        output = X.copy()\n",
    "        if self.columns is not None:\n",
    "            for col in self.columns:\n",
    "                # convert float NaN --> string NaN\n",
    "                output[col] = output[col].fillna('NaN')\n",
    "                output[col] = LabelEncoder().fit_transform(output[col])\n",
    "        else:\n",
    "            for colname,col in output.iteritems():\n",
    "                output[colname] = LabelEncoder().fit_transform(col)\n",
    "        return output\n",
    "\n",
    "    def fit_transform(self,X,y=None):\n",
    "        return self.fit(X,y).transform(X)\n",
    "\n",
    "# store the catagorical features names as a list      \n",
    "cat_features = X_aug_train.select_dtypes(['object']).columns.to_list()\n",
    "\n",
    "# use MultiColumnLabelEncoder to apply LabelEncoding on cat_features \n",
    "# uses NaN as a value , no imputation will be used for missing data\n",
    "X = MultiColumnLabelEncoder(columns = cat_features).fit_transform(X_aug_train)\n",
    "\n",
    "X_train, X_test, y_train, y_test = train_test_split(X, y, test_size = 0.30, random_state = 42)\n",
    "\n",
    "print(\"Train data: \", X_train.shape)\n",
    "print(\"Test data: \", X_test.shape)"
   ]
  },
  {
   "cell_type": "code",
   "execution_count": 14,
   "metadata": {},
   "outputs": [
    {
     "data": {
      "text/plain": [
       "0.0    9945\n",
       "1.0    3465\n",
       "Name: target, dtype: int64"
      ]
     },
     "execution_count": 14,
     "metadata": {},
     "output_type": "execute_result"
    }
   ],
   "source": [
    "y_train.value_counts()"
   ]
  },
  {
   "cell_type": "code",
   "execution_count": 15,
   "metadata": {},
   "outputs": [
    {
     "data": {
      "text/plain": [
       "0.0    4338\n",
       "1.0    1410\n",
       "Name: target, dtype: int64"
      ]
     },
     "execution_count": 15,
     "metadata": {},
     "output_type": "execute_result"
    }
   ],
   "source": [
    "y_test.value_counts()"
   ]
  },
  {
   "cell_type": "markdown",
   "metadata": {},
   "source": [
    "# Default Model"
   ]
  },
  {
   "cell_type": "code",
   "execution_count": 16,
   "metadata": {},
   "outputs": [
    {
     "name": "stdout",
     "output_type": "stream",
     "text": [
      "Performance on all data\n",
      "Precision: 0.6276959352355325\n",
      "Recall: 0.6240431454418929\n",
      "F1 Score: 0.6258444553933447\n"
     ]
    },
    {
     "data": {
      "text/plain": [
       "(0.6276959352355325, 0.6240431454418929, 0.6258444553933447, None)"
      ]
     },
     "execution_count": 16,
     "metadata": {},
     "output_type": "execute_result"
    }
   ],
   "source": [
    "model_default = svm.SVC(kernel='sigmoid')\n",
    "scores_default = cross_val_score(model_default, X=X_train, y=y_train, cv = FOLDS)\n",
    "model_default.fit(X_train, y_train)\n",
    "y_pred_default = model_default.predict(X_test)\n",
    "get_performance(X_test, y_test, y_pred_default)"
   ]
  },
  {
   "cell_type": "code",
   "execution_count": 17,
   "metadata": {},
   "outputs": [
    {
     "data": {
      "text/plain": [
       "0.0    4297\n",
       "1.0    1451\n",
       "dtype: int64"
      ]
     },
     "execution_count": 17,
     "metadata": {},
     "output_type": "execute_result"
    }
   ],
   "source": [
    "pd.DataFrame(y_pred_default).value_counts()"
   ]
  },
  {
   "cell_type": "code",
   "execution_count": 18,
   "metadata": {},
   "outputs": [],
   "source": [
    "import time \n",
    "import sys\n",
    "sys.path.insert(1, './mmd')\n",
    "from mmd import diagnoser\n",
    "from scipy import stats as st\n",
    "import numpy\n",
    "#notebook's library\n",
    "%matplotlib inline\n",
    "from helper import get_top_f1_rules, get_relevent_attributs_target, get_MMD_results, get_biased_features, get_BGMD_results\n",
    "from helper import generateTrain_data_Weights"
   ]
  },
  {
   "cell_type": "code",
   "execution_count": 19,
   "metadata": {},
   "outputs": [],
   "source": [
    "default_result = pd.concat([X_test, y_test], axis=1, join='inner')\n",
    "default_result.loc[:,\"pred\"] = y_pred_default"
   ]
  },
  {
   "cell_type": "code",
   "execution_count": 20,
   "metadata": {},
   "outputs": [],
   "source": [
    "def mispredict_label(row):\n",
    "    if row['target'] == row['pred']:\n",
    "        return False\n",
    "    return True"
   ]
  },
  {
   "cell_type": "code",
   "execution_count": 21,
   "metadata": {},
   "outputs": [],
   "source": [
    "default_result_copy = default_result.copy()\n",
    "X_test_copy = X_test.copy()\n",
    "X_test_copy['mispredict'] = default_result_copy.apply(lambda row: mispredict_label(row), axis=1)"
   ]
  },
  {
   "cell_type": "code",
   "execution_count": 22,
   "metadata": {},
   "outputs": [
    {
     "name": "stdout",
     "output_type": "stream",
     "text": [
      "Original Rule\n",
      "Subgroup Discovery Result\n",
      "\n",
      "Found \u001b[1m3\u001b[0m subgroups\n",
      "\u001b[1mDataset\u001b[0m\n",
      "Target: mispredict=True\n",
      "# Rows:\t5748\n",
      "# Cols:\t14\n",
      "% Target in dataset 37.6%\n",
      "========================================\n",
      "\u001b[1mSubgroup: enrollee_id<=19841\u001b[0m\n",
      "% of subgroup in population (Full Dataset):\t60.04% (3451 rows)\n",
      "Precision: P(mispredict=True | enrollee_id<=19841) = 44.91%\n",
      "Recall: P(enrollee_id<=19841 | mispredict=True) = 71.73%\n",
      "========================================\n",
      "\u001b[1mSubgroup: enrollee_id>6616\u001b[0m\n",
      "% of subgroup in population (Full Dataset):\t79.78% (4586 rows)\n",
      "Precision: P(mispredict=True | enrollee_id>6616) = 42.19%\n",
      "Recall: P(enrollee_id>6616 | mispredict=True) = 89.54%\n",
      "========================================\n",
      "\u001b[1mSubgroup: enrollee_id>6616 & enrollee_id<=13389\u001b[0m\n",
      "% of subgroup in population (Full Dataset):\t20.06% (1153 rows)\n",
      "Precision: P(mispredict=True | enrollee_id>6616 & enrollee_id<=13389) = 62.71%\n",
      "Recall: P(enrollee_id>6616 & enrollee_id<=13389 | mispredict=True) = 33.46%\n",
      "\n",
      "###############################\n",
      "\n",
      "BGMD Rule\n",
      "Subgroup Discovery Result\n",
      "\n",
      "Found \u001b[1m3\u001b[0m subgroups\n",
      "\u001b[1mDataset\u001b[0m\n",
      "Target: mispredict=True\n",
      "# Rows:\t5748\n",
      "# Cols:\t14\n",
      "% Target in dataset 37.6%\n",
      "========================================\n",
      "\u001b[1mSubgroup: enrollee_id<=19841\u001b[0m\n",
      "% of subgroup in population (Full Dataset):\t60.04% (3451 rows)\n",
      "Precision: P(mispredict=True | enrollee_id<=19841) = 44.91%\n",
      "Recall: P(enrollee_id<=19841 | mispredict=True) = 71.73%\n",
      "========================================\n",
      "\u001b[1mSubgroup: enrollee_id>6616\u001b[0m\n",
      "% of subgroup in population (Full Dataset):\t79.78% (4586 rows)\n",
      "Precision: P(mispredict=True | enrollee_id>6616) = 42.19%\n",
      "Recall: P(enrollee_id>6616 | mispredict=True) = 89.54%\n",
      "========================================\n",
      "\u001b[1mSubgroup: enrollee_id>6616 & enrollee_id<=13389\u001b[0m\n",
      "% of subgroup in population (Full Dataset):\t20.06% (1153 rows)\n",
      "Precision: P(mispredict=True | enrollee_id>6616 & enrollee_id<=13389) = 62.71%\n",
      "Recall: P(enrollee_id>6616 & enrollee_id<=13389 | mispredict=True) = 33.46%\n",
      "MMD Spent: 26.41090226173401 BGMD Spent: 1.7661986351013184\n"
     ]
    },
    {
     "data": {
      "text/plain": [
       "([[0.5735882614495331,\n",
       "   0.4219363279546446,\n",
       "   0.8954187875983342,\n",
       "   'enrollee_id>6616'],\n",
       "  [0.5523877405559515,\n",
       "   0.4491451753115039,\n",
       "   0.7172605275335493,\n",
       "   'enrollee_id<=19841'],\n",
       "  [0.43633071816535907,\n",
       "   0.627059843885516,\n",
       "   0.3345673299398427,\n",
       "   'enrollee_id>6616 & enrollee_id<=13389']],\n",
       " [[0.5735882614495331,\n",
       "   0.4219363279546446,\n",
       "   0.8954187875983342,\n",
       "   'enrollee_id>6616'],\n",
       "  [0.5523877405559515,\n",
       "   0.4491451753115039,\n",
       "   0.7172605275335493,\n",
       "   'enrollee_id<=19841'],\n",
       "  [0.43633071816535907,\n",
       "   0.627059843885516,\n",
       "   0.3345673299398427,\n",
       "   'enrollee_id>6616 & enrollee_id<=13389']])"
      ]
     },
     "execution_count": 22,
     "metadata": {},
     "output_type": "execute_result"
    }
   ],
   "source": [
    "settings = diagnoser.Settings\n",
    "settings.all_rules = True\n",
    "# Get relevent attributes and target \n",
    "relevant_attributes, Target = get_relevent_attributs_target(X_test_copy)\n",
    "# Generate MMD rules and correspodning information\n",
    "MMD_rules, MMD_time, MMD_Features = get_MMD_results(X_test_copy, relevant_attributes, Target)\n",
    "\n",
    "#Get biased attributes this time \n",
    "biased_attributes = get_biased_features(X_test_copy, relevant_attributes)\n",
    "\n",
    "BGMD_rules, BGMD_time, BGMD_Features = get_BGMD_results(X_test_copy, biased_attributes, Target)\n",
    "\n",
    "print('MMD Spent:', MMD_time, 'BGMD Spent:', BGMD_time)\n",
    "MMD_rules, BGMD_rules"
   ]
  },
  {
   "cell_type": "markdown",
   "metadata": {},
   "source": [
    "# Decision Tree"
   ]
  },
  {
   "cell_type": "code",
   "execution_count": 23,
   "metadata": {},
   "outputs": [
    {
     "name": "stdout",
     "output_type": "stream",
     "text": [
      "Performance on all data\n",
      "Precision: 0.8620284825303114\n",
      "Recall: 0.8587334725121781\n",
      "F1 Score: 0.8601471613991762\n"
     ]
    },
    {
     "data": {
      "text/plain": [
       "(0.8620284825303114, 0.8587334725121781, 0.8601471613991762, None)"
      ]
     },
     "execution_count": 23,
     "metadata": {},
     "output_type": "execute_result"
    }
   ],
   "source": [
    "model_default = DecisionTreeClassifier()\n",
    "scores_default = cross_val_score(model_default, X=X_train, y=y_train, cv = FOLDS)\n",
    "model_default.fit(X_train, y_train)\n",
    "y_pred_default = model_default.predict(X_test)\n",
    "get_performance(X_test, y_test, y_pred_default)"
   ]
  },
  {
   "cell_type": "code",
   "execution_count": 24,
   "metadata": {},
   "outputs": [
    {
     "name": "stdout",
     "output_type": "stream",
     "text": [
      "Original Rule\n",
      "Subgroup Discovery Result\n",
      "\n",
      "Found \u001b[1m3\u001b[0m subgroups\n",
      "\u001b[1mDataset\u001b[0m\n",
      "Target: mispredict=True\n",
      "# Rows:\t5748\n",
      "# Cols:\t14\n",
      "% Target in dataset 14.13%\n",
      "========================================\n",
      "\u001b[1mSubgroup: city_development_index<=0.7959999999999999\u001b[0m\n",
      "% of subgroup in population (Full Dataset):\t30.79% (1770 rows)\n",
      "Precision: P(mispredict=True | city_development_index<=0.7959999999999999) = 20.28%\n",
      "Recall: P(city_development_index<=0.7959999999999999 | mispredict=True) = 44.21%\n",
      "========================================\n",
      "\u001b[1mSubgroup: city_development_index<=0.742\u001b[0m\n",
      "% of subgroup in population (Full Dataset):\t24.81% (1426 rows)\n",
      "Precision: P(mispredict=True | city_development_index<=0.742) = 21.18%\n",
      "Recall: P(city_development_index<=0.742 | mispredict=True) = 37.19%\n",
      "========================================\n",
      "\u001b[1mSubgroup: city_development_index<=0.884\u001b[0m\n",
      "% of subgroup in population (Full Dataset):\t41.25% (2371 rows)\n",
      "Precision: P(mispredict=True | city_development_index<=0.884) = 18.3%\n",
      "Recall: P(city_development_index<=0.884 | mispredict=True) = 53.45%\n",
      "\n",
      "###############################\n",
      "\n",
      "BGMD Rule\n",
      "Subgroup Discovery Result\n",
      "\n",
      "Found \u001b[1m3\u001b[0m subgroups\n",
      "\u001b[1mDataset\u001b[0m\n",
      "Target: mispredict=True\n",
      "# Rows:\t5748\n",
      "# Cols:\t14\n",
      "% Target in dataset 14.13%\n",
      "========================================\n",
      "\u001b[1mSubgroup: city_development_index<=0.7959999999999999\u001b[0m\n",
      "% of subgroup in population (Full Dataset):\t30.79% (1770 rows)\n",
      "Precision: P(mispredict=True | city_development_index<=0.7959999999999999) = 20.28%\n",
      "Recall: P(city_development_index<=0.7959999999999999 | mispredict=True) = 44.21%\n",
      "========================================\n",
      "\u001b[1mSubgroup: city_development_index<=0.742\u001b[0m\n",
      "% of subgroup in population (Full Dataset):\t24.81% (1426 rows)\n",
      "Precision: P(mispredict=True | city_development_index<=0.742) = 21.18%\n",
      "Recall: P(city_development_index<=0.742 | mispredict=True) = 37.19%\n",
      "========================================\n",
      "\u001b[1mSubgroup: city_development_index<=0.884\u001b[0m\n",
      "% of subgroup in population (Full Dataset):\t41.25% (2371 rows)\n",
      "Precision: P(mispredict=True | city_development_index<=0.884) = 18.3%\n",
      "Recall: P(city_development_index<=0.884 | mispredict=True) = 53.45%\n",
      "MMD Spent: 7.995899438858032 BGMD Spent: 1.062502145767212\n"
     ]
    },
    {
     "data": {
      "text/plain": [
       "([[0.27807900852052675,\n",
       "   0.20282485875706216,\n",
       "   0.4421182266009852,\n",
       "   'city_development_index<=0.7959999999999999'],\n",
       "  [0.27269871190700595,\n",
       "   0.1830451286377056,\n",
       "   0.5344827586206896,\n",
       "   'city_development_index<=0.884'],\n",
       "  [0.26988382484361034,\n",
       "   0.211781206171108,\n",
       "   0.37192118226600984,\n",
       "   'city_development_index<=0.742']],\n",
       " [[0.27807900852052675,\n",
       "   0.20282485875706216,\n",
       "   0.4421182266009852,\n",
       "   'city_development_index<=0.7959999999999999'],\n",
       "  [0.27269871190700595,\n",
       "   0.1830451286377056,\n",
       "   0.5344827586206896,\n",
       "   'city_development_index<=0.884'],\n",
       "  [0.26988382484361034,\n",
       "   0.211781206171108,\n",
       "   0.37192118226600984,\n",
       "   'city_development_index<=0.742']])"
      ]
     },
     "execution_count": 24,
     "metadata": {},
     "output_type": "execute_result"
    }
   ],
   "source": [
    "default_result = pd.concat([X_test, y_test], axis=1, join='inner')\n",
    "default_result.loc[:,\"pred\"] = y_pred_default\n",
    "default_result_copy = default_result.copy()\n",
    "X_test_copy = X_test.copy()\n",
    "X_test_copy['mispredict'] = default_result_copy.apply(lambda row: mispredict_label(row), axis=1)\n",
    "settings = diagnoser.Settings\n",
    "settings.all_rules = True\n",
    "# Get relevent attributes and target \n",
    "relevant_attributes, Target = get_relevent_attributs_target(X_test_copy)\n",
    "# Generate MMD rules and correspodning information\n",
    "MMD_rules, MMD_time, MMD_Features = get_MMD_results(X_test_copy, relevant_attributes, Target)\n",
    "\n",
    "#Get biased attributes this time \n",
    "biased_attributes = get_biased_features(X_test_copy, relevant_attributes)\n",
    "\n",
    "BGMD_rules, BGMD_time, BGMD_Features = get_BGMD_results(X_test_copy, biased_attributes, Target)\n",
    "\n",
    "print('MMD Spent:', MMD_time, 'BGMD Spent:', BGMD_time)\n",
    "MMD_rules, BGMD_rules"
   ]
  }
 ],
 "metadata": {
  "kernelspec": {
   "display_name": "Python 3",
   "language": "python",
   "name": "python3"
  },
  "language_info": {
   "codemirror_mode": {
    "name": "ipython",
    "version": 3
   },
   "file_extension": ".py",
   "mimetype": "text/x-python",
   "name": "python",
   "nbconvert_exporter": "python",
   "pygments_lexer": "ipython3",
   "version": "3.8.5"
  }
 },
 "nbformat": 4,
 "nbformat_minor": 5
}
