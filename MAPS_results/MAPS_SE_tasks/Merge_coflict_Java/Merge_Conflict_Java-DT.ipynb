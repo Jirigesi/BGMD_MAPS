{
 "cells": [
  {
   "cell_type": "code",
   "execution_count": 1,
   "metadata": {},
   "outputs": [],
   "source": [
    "import pandas as pd\n",
    "import numpy as np\n",
    "from sklearn.preprocessing import LabelEncoder, StandardScaler, MinMaxScaler\n",
    "from sklearn.pipeline import make_pipeline\n",
    "from sklearn.compose import make_column_transformer\n",
    "from sklearn.model_selection import train_test_split, cross_val_score\n",
    "from sklearn import svm\n",
    "from sklearn.tree import DecisionTreeClassifier\n",
    "import matplotlib.pyplot as plt\n",
    "from imblearn.over_sampling import SMOTE\n",
    "from helper import get_performance, get_conflict_commit_performance, get_merge_coflict_mispredicted_region_test\n",
    "from sklearn.metrics import classification_report\n",
    "EPOCHS = 700\n",
    "BATCH_SIZE = 2048\n",
    "ACTIVATION = 'swish'\n",
    "LEARNING_RATE = 0.0007\n",
    "FOLDS = 5"
   ]
  },
  {
   "cell_type": "code",
   "execution_count": 3,
   "metadata": {},
   "outputs": [
    {
     "name": "stdout",
     "output_type": "stream",
     "text": [
      "(26699, 28)\n",
      "(26699, 1)\n",
      "------\n",
      "is_conflict\n",
      "0              24519\n",
      "1               2180\n",
      "dtype: int64\n"
     ]
    }
   ],
   "source": [
    "DATA_PATH = \"/data/conflict-prediction-master/replication_package/prediction_data/data_Java.csv\"\n",
    "LABEL_PATH = \"/data/Documents/GitHub/conflict-prediction-master/replication_package/prediction_data/label_Java.csv\"\n",
    "\n",
    "\n",
    "X = pd.read_csv(DATA_PATH)\n",
    "y = pd.read_csv(LABEL_PATH)\n",
    "print(X.shape)\n",
    "print(y.shape)\n",
    "print('------')\n",
    "print(y.value_counts())\n",
    "X_train, X_test, y_train, y_test = train_test_split(X, y, test_size=0.3, random_state=42)"
   ]
  },
  {
   "cell_type": "markdown",
   "metadata": {},
   "source": [
    "# Default Model"
   ]
  },
  {
   "cell_type": "code",
   "execution_count": 4,
   "metadata": {},
   "outputs": [
    {
     "name": "stdout",
     "output_type": "stream",
     "text": [
      "              precision    recall  f1-score   support\n",
      "\n",
      "           0       0.96      0.96      0.96      7348\n",
      "           1       0.58      0.59      0.59       662\n",
      "\n",
      "    accuracy                           0.93      8010\n",
      "   macro avg       0.77      0.78      0.77      8010\n",
      "weighted avg       0.93      0.93      0.93      8010\n",
      "\n"
     ]
    }
   ],
   "source": [
    "model_default = DecisionTreeClassifier()\n",
    "scores_default = cross_val_score(model_default, X=X_train, y=y_train, cv = FOLDS)\n",
    "model_default.fit(X_train, y_train)\n",
    "y_pred_default = model_default.predict(X_test)\n",
    "\n",
    "print(classification_report(y_test, y_pred_default))"
   ]
  },
  {
   "cell_type": "markdown",
   "metadata": {},
   "source": [
    "# SMOTE Oversampling"
   ]
  },
  {
   "cell_type": "code",
   "execution_count": 5,
   "metadata": {},
   "outputs": [
    {
     "name": "stdout",
     "output_type": "stream",
     "text": [
      "              precision    recall  f1-score   support\n",
      "\n",
      "           0       0.96      0.96      0.96      7348\n",
      "           1       0.56      0.61      0.58       662\n",
      "\n",
      "    accuracy                           0.93      8010\n",
      "   macro avg       0.76      0.78      0.77      8010\n",
      "weighted avg       0.93      0.93      0.93      8010\n",
      "\n"
     ]
    }
   ],
   "source": [
    "# SMOTE Oversampling\n",
    "    # Transform data \n",
    "oversample = SMOTE()\n",
    "X_train_sm, y_train_sm = oversample.fit_resample(X_train, y_train)\n",
    "model_SMOTE = DecisionTreeClassifier()\n",
    "scores_SMOTE = cross_val_score(model_SMOTE, X=X_train_sm, y=y_train_sm, cv = FOLDS)\n",
    "model_SMOTE.fit(X_train_sm, y_train_sm)\n",
    "y_pred_SMOTE = model_SMOTE.predict(X_test)\n",
    "\n",
    "print(classification_report(y_test, y_pred_SMOTE))"
   ]
  },
  {
   "cell_type": "markdown",
   "metadata": {},
   "source": [
    "## MAPS"
   ]
  },
  {
   "cell_type": "code",
   "execution_count": 6,
   "metadata": {},
   "outputs": [],
   "source": [
    "import time \n",
    "import sys\n",
    "sys.path.insert(1, './mmd')\n",
    "from mmd import diagnoser\n",
    "from scipy import stats as st\n",
    "import numpy\n",
    "#notebook's library\n",
    "%matplotlib inline\n",
    "from helper import get_top_f1_rules, get_relevent_attributs_target, get_MMD_results, get_biased_features, get_BGMD_results\n",
    "from helper import generateTrain_data_Weights"
   ]
  },
  {
   "cell_type": "code",
   "execution_count": 7,
   "metadata": {},
   "outputs": [],
   "source": [
    "def mispredict_label(row):\n",
    "    if row['is_conflict'] == row['pred']:\n",
    "        return False\n",
    "    return True\n",
    "#use first default model result to detect mispredictions\n",
    "default_result = pd.concat([X_test, y_test], axis=1, join='inner')\n",
    "default_result.loc[:,\"pred\"] = y_pred_default\n",
    "\n",
    "# default_result = default_result.loc[default_result[\"is_conflict\"] == 1]\n",
    "default_result_copy = default_result.copy()\n",
    "X_test_copy = default_result.copy().drop(['is_conflict', 'pred'], axis=1)\n",
    "X_test_copy['mispredict'] = default_result_copy.apply(lambda row: mispredict_label(row), axis=1)\n"
   ]
  },
  {
   "cell_type": "code",
   "execution_count": 8,
   "metadata": {},
   "outputs": [
    {
     "name": "stdout",
     "output_type": "stream",
     "text": [
      "Original Rule\n",
      "Subgroup Discovery Result\n",
      "\n",
      "Found \u001b[1m3\u001b[0m subgroups\n",
      "\u001b[1mDataset\u001b[0m\n",
      "Target: mispredict=True\n",
      "# Rows:\t8010\n",
      "# Cols:\t29\n",
      "% Target in dataset 6.94%\n",
      "========================================\n",
      "\u001b[1mSubgroup: improve_frequency>3.0\u001b[0m\n",
      "% of subgroup in population (Full Dataset):\t0.15% (12 rows)\n",
      "Precision: P(mispredict=True | improve_frequency>3.0) = 33.33%\n",
      "Recall: P(improve_frequency>3.0 | mispredict=True) = 0.72%\n",
      "========================================\n",
      "\u001b[1mSubgroup: remove_frequency>7.0\u001b[0m\n",
      "% of subgroup in population (Full Dataset):\t0.11% (9 rows)\n",
      "Precision: P(mispredict=True | remove_frequency>7.0) = 33.33%\n",
      "Recall: P(remove_frequency>7.0 | mispredict=True) = 0.54%\n",
      "========================================\n",
      "\u001b[1mSubgroup: commit_num>254.0\u001b[0m\n",
      "% of subgroup in population (Full Dataset):\t4.74% (380 rows)\n",
      "Precision: P(mispredict=True | commit_num>254.0) = 25.53%\n",
      "Recall: P(commit_num>254.0 | mispredict=True) = 17.45%\n",
      "time: 25.65940499305725\n",
      "Feature Number 29\n",
      "\n",
      "###############################\n",
      "\n",
      "BGMD Rule\n",
      "Subgroup Discovery Result\n",
      "\n",
      "Found \u001b[1m3\u001b[0m subgroups\n",
      "\u001b[1mDataset\u001b[0m\n",
      "Target: mispredict=True\n",
      "# Rows:\t8010\n",
      "# Cols:\t29\n",
      "% Target in dataset 6.94%\n",
      "========================================\n",
      "\u001b[1mSubgroup: remove_frequency>7.0\u001b[0m\n",
      "% of subgroup in population (Full Dataset):\t0.11% (9 rows)\n",
      "Precision: P(mispredict=True | remove_frequency>7.0) = 33.33%\n",
      "Recall: P(remove_frequency>7.0 | mispredict=True) = 0.54%\n",
      "========================================\n",
      "\u001b[1mSubgroup: commit_num>254.0\u001b[0m\n",
      "% of subgroup in population (Full Dataset):\t4.74% (380 rows)\n",
      "Precision: P(mispredict=True | commit_num>254.0) = 25.53%\n",
      "Recall: P(commit_num>254.0 | mispredict=True) = 17.45%\n",
      "========================================\n",
      "\u001b[1mSubgroup: commit_num>115.0\u001b[0m\n",
      "% of subgroup in population (Full Dataset):\t7.74% (620 rows)\n",
      "Precision: P(mispredict=True | commit_num>115.0) = 23.39%\n",
      "Recall: P(commit_num>115.0 | mispredict=True) = 26.08%\n",
      "time: 3.7418439388275146\n",
      "Feature Number 7\n",
      "MMD Spent: 25.65940499305725 BGMD Spent: 3.7418439388275146\n"
     ]
    },
    {
     "data": {
      "text/plain": [
       "([[0.20726495726495725, 'commit_num>254.0'],\n",
       "  [0.01408450704225352, 'improve_frequency>3.0'],\n",
       "  [0.010619469026548672, 'remove_frequency>7.0']],\n",
       " [[0.2465986394557823, 'commit_num>115.0'],\n",
       "  [0.20726495726495725, 'commit_num>254.0'],\n",
       "  [0.010619469026548672, 'remove_frequency>7.0']])"
      ]
     },
     "execution_count": 8,
     "metadata": {},
     "output_type": "execute_result"
    }
   ],
   "source": [
    "settings = diagnoser.Settings\n",
    "settings.all_rules = False\n",
    "\n",
    "# Get relevent attributes and target \n",
    "relevant_attributes, Target = get_relevent_attributs_target(X_test_copy)\n",
    "# Geerate MMD rules and correspodning information\n",
    "MMD_rules, MMD_time, MMD_Features = get_MMD_results(X_test_copy, relevant_attributes, Target, settings)\n",
    "\n",
    "#Get biased attributes this time \n",
    "biased_attributes = get_biased_features(X_test_copy, relevant_attributes)\n",
    "\n",
    "BGMD_rules, BGMD_time, BGMD_Features = get_BGMD_results(X_test_copy, biased_attributes, Target, settings)\n",
    "\n",
    "\n",
    "print('MMD Spent:', MMD_time, 'BGMD Spent:', BGMD_time)\n",
    "MMD_rules, BGMD_rules"
   ]
  },
  {
   "cell_type": "code",
   "execution_count": 9,
   "metadata": {},
   "outputs": [],
   "source": [
    "from helper import get_test_data_in_misprediction_areas\n",
    "\n",
    "final_result = pd.concat([X_test, y_test], axis=1, join='inner')\n",
    "\n",
    "indexes_in_misprediction_area = get_test_data_in_misprediction_areas(BGMD_rules, X_test)\n",
    "y_actual_MD = []\n",
    "\n",
    "for index in indexes_in_misprediction_area:\n",
    "        y_actual_MD.append(final_result.loc[index]['is_conflict'])\n"
   ]
  },
  {
   "cell_type": "code",
   "execution_count": 10,
   "metadata": {},
   "outputs": [],
   "source": [
    "from collections import Counter\n",
    "from sklearn.metrics import precision_recall_fscore_support\n",
    "grid_upweights = range(1, 101)\n",
    "best_weight_all = 1\n",
    "best_f1_all = 0\n",
    "best_weight_mis = 1\n",
    "best_f1_mis = 0\n",
    "f1_all = []\n",
    "f1_mispredicted = []\n",
    "acc_all = []\n",
    "acc_mispredicted = []\n",
    "recall_all = []\n",
    "recall_mispredicted = []\n",
    "for upweight in grid_upweights:\n",
    "    # give extra weights to training samples in mispredited areas \n",
    "#     print('Upweight_value: ', upweight)\n",
    "    weights = generateTrain_data_Weights(BGMD_rules, X_train, upweight_value=upweight)\n",
    "\n",
    "    c = Counter(weights)\n",
    "#     print(c.items())\n",
    "\n",
    "    MAPS_model = DecisionTreeClassifier()\n",
    "    scores_MAPS = cross_val_score(MAPS_model, X=X_train, y=y_train, cv = FOLDS)\n",
    "    MAPS_model.fit(X_train, y_train, sample_weight = weights)\n",
    "\n",
    "    y_pred_MAPS = MAPS_model.predict(X_test)\n",
    "\n",
    "    total_result = get_conflict_commit_performance(X_test, y_test, y_pred_MAPS)\n",
    "    \n",
    "    acc_all.append(total_result[0][0])\n",
    "    recall_all.append(total_result[1][0])\n",
    "    f1_all.append(total_result[2][0])\n",
    "    \n",
    "    final_result['y_pred_MAPS'] = y_pred_MAPS\n",
    "    y_pred_MAPS_MD = []\n",
    "    for index in indexes_in_misprediction_area:\n",
    "        y_pred_MAPS_MD.append(final_result.loc[index]['y_pred_MAPS'])\n",
    "        \n",
    "    MAPS_MD_metric = precision_recall_fscore_support(y_actual_MD, y_pred_MAPS_MD, labels=[1])\n",
    "    \n",
    "    acc_mispredicted.append(MAPS_MD_metric[0][0])\n",
    "    recall_mispredicted.append(MAPS_MD_metric[1][0])\n",
    "    f1_mispredicted.append(MAPS_MD_metric[2][0])\n",
    "    \n",
    "    if total_result[2][0] > best_f1_all:\n",
    "        best_f1_all = total_result[2][0]\n",
    "        best_weight_all = upweight;\n",
    "    if MAPS_MD_metric[2][0] > best_f1_mis:\n",
    "        best_f1_mis = MAPS_MD_metric[2][0]\n",
    "        best_weight_mis = upweight"
   ]
  },
  {
   "cell_type": "code",
   "execution_count": 11,
   "metadata": {},
   "outputs": [
    {
     "name": "stdout",
     "output_type": "stream",
     "text": [
      "Best weight on all is:  1\n",
      "Best weight on misprediction area is:  5\n"
     ]
    },
    {
     "data": {
      "image/png": "[encoded data removed]",
      "text/plain": [
       "<Figure size 432x288 with 1 Axes>"
      ]
     },
     "metadata": {
      "needs_background": "light"
     },
     "output_type": "display_data"
    }
   ],
   "source": [
    "print(\"Best weight on all is: \", best_weight_all)\n",
    "print(\"Best weight on misprediction area is: \", best_weight_mis)\n",
    "plt.plot(grid_upweights, f1_all, label = \"f1 on all data\")\n",
    "plt.plot(grid_upweights, f1_mispredicted, label = \"f1 on mispredicted area\")\n",
    "plt.legend()\n",
    "plt.show()\n",
    "dict = {'acc_all': acc_all, 'recall_all': recall_all, 'f1_all': f1_all, 'acc_mispredicted': acc_mispredicted, 'recall_mispredicted': recall_mispredicted, 'f1_mispredicted': f1_mispredicted}\n",
    "out = pd.DataFrame(dict)\n",
    "out.to_csv('Merge_Conflict_Java_DT.csv')"
   ]
  },
  {
   "cell_type": "code",
   "execution_count": 12,
   "metadata": {},
   "outputs": [
    {
     "data": {
      "text/plain": [
       "(0.5782792665726375, 0.6193353474320241, 0.5981035740335522)"
      ]
     },
     "execution_count": 12,
     "metadata": {},
     "output_type": "execute_result"
    }
   ],
   "source": [
    "# MAPS all\n",
    "acc_all[best_weight_all-1], recall_all[best_weight_all-1], f1_all[best_weight_all-1]"
   ]
  },
  {
   "cell_type": "code",
   "execution_count": 13,
   "metadata": {},
   "outputs": [
    {
     "data": {
      "text/plain": [
       "(0.7480916030534351, 0.7626459143968871, 0.7552986512524084)"
      ]
     },
     "execution_count": 13,
     "metadata": {},
     "output_type": "execute_result"
    }
   ],
   "source": [
    "# MAPS mispredict area\n",
    "acc_mispredicted[best_weight_mis-1], recall_mispredicted[best_weight_mis-1], f1_mispredicted[best_weight_mis-1]"
   ]
  },
  {
   "cell_type": "code",
   "execution_count": 14,
   "metadata": {},
   "outputs": [
    {
     "name": "stdout",
     "output_type": "stream",
     "text": [
      "Default: (array([0.70220588]), array([0.74319066]), array([0.7221172]), array([257]))\n",
      "SMOTE: (array([0.69202899]), array([0.74319066]), array([0.71669794]), array([257]))\n"
     ]
    }
   ],
   "source": [
    "get_merge_coflict_mispredicted_region_test(X_test, y_test, y_pred_default, y_pred_SMOTE, y_pred_MAPS, BGMD_rules, ylabel='is_conflict')"
   ]
  },
  {
   "cell_type": "markdown",
   "metadata": {},
   "source": [
    "# JTT"
   ]
  },
  {
   "cell_type": "code",
   "execution_count": 15,
   "metadata": {},
   "outputs": [],
   "source": [
    "from helper import generate_JTT_Weights"
   ]
  },
  {
   "cell_type": "code",
   "execution_count": 16,
   "metadata": {},
   "outputs": [
    {
     "data": {
      "text/plain": [
       "(0.9307178233492255, 0.9270428015564203, 0.9287283674526037, None)"
      ]
     },
     "execution_count": 16,
     "metadata": {},
     "output_type": "execute_result"
    }
   ],
   "source": [
    "X_train_1st, X_val, y_train_1st, y_val = train_test_split(X_train, y_train, test_size = 0.33, random_state = 29)\n",
    "\n",
    "model_JTT = DecisionTreeClassifier()\n",
    "scores_JTT_1st = cross_val_score(model_JTT, X_train_1st, y=y_train_1st, cv = FOLDS)\n",
    "model_JTT.fit(X_train_1st, y_train_1st)\n",
    "y_pred_JTT_val = model_JTT.predict(X_val)"
   ]
  },
  {
   "cell_type": "code",
   "execution_count": 17,
   "metadata": {},
   "outputs": [
    {
     "data": {
      "text/html": [
       "<div>\n",
       "<style scoped>\n",
       "    .dataframe tbody tr th:only-of-type {\n",
       "        vertical-align: middle;\n",
       "    }\n",
       "\n",
       "    .dataframe tbody tr th {\n",
       "        vertical-align: top;\n",
       "    }\n",
       "\n",
       "    .dataframe thead th {\n",
       "        text-align: right;\n",
       "    }\n",
       "</style>\n",
       "<table border=\"1\" class=\"dataframe\">\n",
       "  <thead>\n",
       "    <tr style=\"text-align: right;\">\n",
       "      <th></th>\n",
       "      <th>is_conflict</th>\n",
       "    </tr>\n",
       "  </thead>\n",
       "  <tbody>\n",
       "    <tr>\n",
       "      <th>22963</th>\n",
       "      <td>0</td>\n",
       "    </tr>\n",
       "    <tr>\n",
       "      <th>8016</th>\n",
       "      <td>0</td>\n",
       "    </tr>\n",
       "    <tr>\n",
       "      <th>14560</th>\n",
       "      <td>0</td>\n",
       "    </tr>\n",
       "    <tr>\n",
       "      <th>4625</th>\n",
       "      <td>0</td>\n",
       "    </tr>\n",
       "    <tr>\n",
       "      <th>22400</th>\n",
       "      <td>0</td>\n",
       "    </tr>\n",
       "    <tr>\n",
       "      <th>...</th>\n",
       "      <td>...</td>\n",
       "    </tr>\n",
       "    <tr>\n",
       "      <th>16870</th>\n",
       "      <td>0</td>\n",
       "    </tr>\n",
       "    <tr>\n",
       "      <th>25785</th>\n",
       "      <td>0</td>\n",
       "    </tr>\n",
       "    <tr>\n",
       "      <th>23641</th>\n",
       "      <td>0</td>\n",
       "    </tr>\n",
       "    <tr>\n",
       "      <th>9146</th>\n",
       "      <td>0</td>\n",
       "    </tr>\n",
       "    <tr>\n",
       "      <th>24069</th>\n",
       "      <td>0</td>\n",
       "    </tr>\n",
       "  </tbody>\n",
       "</table>\n",
       "<p>6168 rows × 1 columns</p>\n",
       "</div>"
      ],
      "text/plain": [
       "       is_conflict\n",
       "22963            0\n",
       "8016             0\n",
       "14560            0\n",
       "4625             0\n",
       "22400            0\n",
       "...            ...\n",
       "16870            0\n",
       "25785            0\n",
       "23641            0\n",
       "9146             0\n",
       "24069            0\n",
       "\n",
       "[6168 rows x 1 columns]"
      ]
     },
     "execution_count": 17,
     "metadata": {},
     "output_type": "execute_result"
    }
   ],
   "source": [
    "y_val"
   ]
  },
  {
   "cell_type": "code",
   "execution_count": 18,
   "metadata": {},
   "outputs": [],
   "source": [
    "grid_upweights_JTT = [10, 20, 30, 40, 50]\n",
    "best_weight_all_JTT = 1\n",
    "best_f1_all_JTT = 0\n",
    "best_weight_mis_JTT = 1\n",
    "best_f1_mis_JTT = 0\n",
    "f1_all_JTT = []\n",
    "f1_mispredicted_JTT = []\n",
    "precision_all_JTT = []\n",
    "precision_mispredicted_JTT = []\n",
    "recall_all_JTT = []\n",
    "recall_mispredicted_JTT = []\n",
    "\n",
    "for i, upweight in enumerate(grid_upweights_JTT):\n",
    "    weights = generate_JTT_Weights(y_val['is_conflict'].to_list(), y_pred_JTT_val, weight = upweight)\n",
    "    \n",
    "    #combine train and validate data\n",
    "    weights = np.concatenate((np.ones(len(X_train_1st)), weights))\n",
    "    y_train_2nd = np.concatenate((y_train_1st, y_val))\n",
    "    X_train_2nd = pd.concat([X_train_1st, X_val])\n",
    "    X_train_2nd['val_weight'] = weights\n",
    "    X_train_2nd['target'] = y_train_2nd\n",
    "    X_train_2nd = X_train_2nd.sample(frac=1, random_state=1).reset_index(drop=True)\n",
    "    weights = X_train_2nd['val_weight'].to_list()\n",
    "    y_train_2nd = X_train_2nd['target']\n",
    "    X_train_2nd = X_train_2nd.drop(['val_weight', 'target'], axis=1)\n",
    "    \n",
    "    model_JTT = DecisionTreeClassifier()\n",
    "    scores_JTT_2nd = cross_val_score(model_JTT, X_train_2nd, y=y_train_2nd, cv = FOLDS)\n",
    "    model_JTT.fit(X_train_2nd, y_train_2nd, sample_weight = weights)\n",
    "    y_pred_JTT = model_JTT.predict(X_test)\n",
    "    \n",
    "    total_result_JTT = get_conflict_commit_performance(X_test, y_test, y_pred_JTT)\n",
    "    \n",
    "    precision_all_JTT.append(total_result_JTT[0][0])\n",
    "    recall_all_JTT.append(total_result_JTT[1][0])\n",
    "    f1_all_JTT.append(total_result_JTT[2][0])\n",
    "    \n",
    "    final_result['y_pred_JTT'] = y_pred_JTT\n",
    "    y_pred_JTT_MD = []\n",
    "    for index in indexes_in_misprediction_area:\n",
    "        y_pred_JTT_MD.append(final_result.loc[index]['y_pred_JTT'])\n",
    "        \n",
    "    JTT_MD_metric = precision_recall_fscore_support(y_actual_MD, y_pred_JTT_MD, labels=[1])\n",
    "    \n",
    "    precision_mispredicted_JTT.append(JTT_MD_metric[0][0])\n",
    "    recall_mispredicted_JTT.append(JTT_MD_metric[1][0])\n",
    "    f1_mispredicted_JTT.append(JTT_MD_metric[2][0])\n",
    "    \n",
    "    if total_result_JTT[2][0] > best_f1_all_JTT:\n",
    "        best_f1_all = total_result_JTT[2][0]\n",
    "        best_weight_all = i;\n",
    "    if JTT_MD_metric[2][0] > best_f1_mis_JTT:\n",
    "        best_f1_mis = JTT_MD_metric[2][0]\n",
    "        best_weight_mis = i"
   ]
  },
  {
   "cell_type": "code",
   "execution_count": 19,
   "metadata": {},
   "outputs": [
    {
     "name": "stdout",
     "output_type": "stream",
     "text": [
      "JTT Best weight on all is:  50\n",
      "JTT Best weight on mispredicted area is:  50\n"
     ]
    }
   ],
   "source": [
    "print(\"JTT Best weight on all is: \", grid_upweights_JTT[best_weight_all])\n",
    "print(\"JTT Best weight on mispredicted area is: \", grid_upweights_JTT[best_weight_mis])"
   ]
  },
  {
   "cell_type": "code",
   "execution_count": 20,
   "metadata": {},
   "outputs": [
    {
     "data": {
      "text/plain": [
       "(0.5824508320726173, 0.581570996978852, 0.5820105820105821)"
      ]
     },
     "execution_count": 20,
     "metadata": {},
     "output_type": "execute_result"
    }
   ],
   "source": [
    "# JTT all\n",
    "precision_all_JTT[best_weight_all_JTT-1], recall_all_JTT[best_weight_all_JTT-1], f1_all_JTT[best_weight_all_JTT-1]"
   ]
  },
  {
   "cell_type": "code",
   "execution_count": 21,
   "metadata": {},
   "outputs": [
    {
     "data": {
      "text/plain": [
       "(0.7022900763358778, 0.7159533073929961, 0.7090558766859344)"
      ]
     },
     "execution_count": 21,
     "metadata": {},
     "output_type": "execute_result"
    }
   ],
   "source": [
    "# JTT mispredict area\n",
    "precision_mispredicted_JTT[best_weight_mis_JTT-1], recall_mispredicted_JTT[best_weight_mis_JTT-1], f1_mispredicted_JTT[best_weight_mis_JTT-1]"
   ]
  },
  {
   "cell_type": "code",
   "execution_count": null,
   "metadata": {},
   "outputs": [],
   "source": []
  }
 ],
 "metadata": {
  "kernelspec": {
   "display_name": "Python 3",
   "language": "python",
   "name": "python3"
  },
  "language_info": {
   "codemirror_mode": {
    "name": "ipython",
    "version": 3
   },
   "file_extension": ".py",
   "mimetype": "text/x-python",
   "name": "python",
   "nbconvert_exporter": "python",
   "pygments_lexer": "ipython3",
   "version": "3.8.5"
  }
 },
 "nbformat": 4,
 "nbformat_minor": 4
}
